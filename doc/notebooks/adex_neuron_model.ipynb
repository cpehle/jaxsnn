{
 "cells": [
  {
   "cell_type": "code",
   "execution_count": 1,
   "metadata": {},
   "outputs": [],
   "source": [
    "from jaxsnn.functional.adex import (\n",
    "    adex_dynamics,\n",
    "    adex_threshold_projection,\n",
    "    AdexParameters,\n",
    "    AdexState,\n",
    ")\n",
    "\n",
    "p = AdexParameters(\n",
    "    g_l=1.0,  # nS\n",
    "    Delta_T=13.0,\n",
    "    tau_w_inv=1 / 22.0,\n",
    "    a=30.0,  # nS\n",
    "    b=0.0,\n",
    "    V_l=0.0,  # mV\n",
    "    V_T=0.2,  # mV\n",
    "    C_m_inv=1.0,  # 1/pF\n",
    "    tau_s_inv=1 / 20.0,\n",
    "    v_th=0.2,  # mV\n",
    "    v_reset=0.0,\n",
    ")"
   ]
  },
  {
   "cell_type": "code",
   "execution_count": 4,
   "metadata": {},
   "outputs": [],
   "source": [
    "from jaxsnn.base import explicit\n",
    "from jaxsnn.functional.threshold import triangular\n",
    "\n",
    "\n",
    "def output(x, u):\n",
    "    return x\n",
    "\n",
    "\n",
    "def heaviside(x):\n",
    "    return 0.5 + 0.5 * np.sign(x)\n",
    "\n",
    "\n",
    "def gating_function(theta, threshold):\n",
    "    def f(v):\n",
    "        dv = threshold - v\n",
    "        return heaviside(dv) * heaviside(theta - dv) * 1 / theta\n",
    "\n",
    "    return f\n",
    "\n",
    "\n",
    "dynamics = adex_dynamics(p, gating_function=gating_function(0.1, p.v_th))\n",
    "equation = explicit.ExplicitConstrainedCDE(\n",
    "    explicit_terms=dynamics,\n",
    "    projection=adex_threshold_projection(p, triangular),\n",
    "    output=output,\n",
    ")"
   ]
  },
  {
   "cell_type": "code",
   "execution_count": 5,
   "metadata": {},
   "outputs": [],
   "source": [
    "import numpy as onp\n",
    "import jaxsnn.base.funcutils as funcutils\n",
    "import jax\n",
    "import jax.numpy as np\n",
    "\n",
    "initial_state = AdexState(v=p.V_l, w=0.0, s=0.0)\n",
    "\n",
    "T = 30000\n",
    "dt = 0.01\n",
    "step_fn = explicit.classic_rk4_cde(equation, dt)\n",
    "\n",
    "stim = onp.zeros(T)\n",
    "stim[7000:14000] = 2.7  # add a square pulse\n",
    "\n",
    "integrator = funcutils.controlled_trajectory(step_fn, stim)\n",
    "integrator = jax.jit(integrator)"
   ]
  },
  {
   "cell_type": "code",
   "execution_count": 6,
   "metadata": {},
   "outputs": [],
   "source": [
    "def integrate_from(initial_state, stim):\n",
    "    integrator = funcutils.controlled_trajectory(step_fn, stim)\n",
    "    _, actual = integrator(initial_state)\n",
    "    return actual\n",
    "\n",
    "\n",
    "integrate_from = jax.jit(integrate_from)\n",
    "actual = integrate_from(initial_state=initial_state, stim=stim)"
   ]
  },
  {
   "cell_type": "code",
   "execution_count": 7,
   "metadata": {},
   "outputs": [
    {
     "data": {
      "application/vnd.jupyter.widget-view+json": {
       "model_id": "7c3ecd48c986454da46a2785277a147d",
       "version_major": 2,
       "version_minor": 0
      },
      "text/plain": [
       "interactive(children=(FloatSlider(value=0.2, description='I_stim', max=50.0), Output()), _dom_classes=('widget…"
      ]
     },
     "metadata": {},
     "output_type": "display_data"
    }
   ],
   "source": [
    "from ipywidgets import interact, IntSlider, FloatSlider\n",
    "from functools import partial\n",
    "import matplotlib.pyplot as plt\n",
    "\n",
    "IntSlider = partial(IntSlider, continuous_update=False)\n",
    "FloatSlider = partial(FloatSlider, continuous_update=True)\n",
    "\n",
    "\n",
    "@interact(\n",
    "    I_stim=FloatSlider(min=0.0, max=50.0, step=0.1, value=0.2),\n",
    ")\n",
    "def experiment(I_stim):\n",
    "    stim = onp.zeros(T)\n",
    "    stim[7000:8000] = I_stim  # add a square pulse\n",
    "    initial_state = AdexState(v=p.V_l, w=0.0, s=0.0)\n",
    "    actual = integrate_from(initial_state=initial_state, stim=stim)\n",
    "    plt.plot(actual.v)"
   ]
  },
  {
   "cell_type": "markdown",
   "metadata": {},
   "source": [
    "## A simple neuron model\n",
    "\n",
    "We consider first a multi-compartment model of adaptive exponential integrate and fire neurons.\n",
    "They are described by a hybrid dynamical system of the following form:\n",
    "\n",
    "$$\n",
    "\\begin{align}\n",
    "C_m \\dot{V} &= g_r(t) (V_r - V) + g_l (V_l - V) + g_\\mathrm{exp} \\Delta_\\mathrm{exp} \\exp\\left(\\frac{V - V_\\mathrm{exp}}{\\Delta_\\mathrm{exp} }\\right) + I_\\mathrm{syn} + I_\\mathrm{MC} - w \\\\\n",
    "\\tau_w \\dot{w} &= -a (V_l - V) - w \\\\\n",
    "\\tau_\\mathrm{ref} \\dot{r} &= -\\Theta(r)\n",
    "\\end{align}\n",
    "$$\n",
    "If the neuron compartment reaches a threshold voltage $V_\\mathrm{th}$ it is connected to a reset conductance $g_r$ this is modelled by a time dependent conductance $g_r(t)$, which is non-zero during the refractory time, the refractory state variable $r$ jumps by $1$ at the threshold crossing."
   ]
  },
  {
   "cell_type": "code",
   "execution_count": null,
   "metadata": {},
   "outputs": [],
   "source": [
    "@tree_math.struct\n",
    "class AdexParameters:\n",
    "    g_l: ArrayLike\n",
    "    g_exp: ArrayLike\n",
    "    Delta_exp: ArrayLike\n",
    "    tau_w_inv: ArrayLike\n",
    "    a: ArrayLike\n",
    "    V_l: ArrayLike\n",
    "    V_exp: ArrayLike\n",
    "    C_m_inv: ArrayLike\n",
    "    tau_s_inv: ArrayLike\n",
    "    v_th: ArrayLike\n",
    "    v_reset: ArrayLike\n",
    "\n",
    "\n",
    "@tree_math.struct\n",
    "class AdexState:\n",
    "    v: ArrayLike\n",
    "    w: ArrayLike\n",
    "    s: ArrayLike\n",
    "\n",
    "\n",
    "def adex_dynamics(p: AdexParameters, gating_function: Callable):\n",
    "    def dynamics(s: AdexState, x: ArrayLike):\n",
    "        v_dot = (\n",
    "            (p.g_l * p.C_m_inv) * (p.V_l - s.v)\n",
    "            + (p.g_exp * p.C_m_inv)\n",
    "            * p.Delta_exp\n",
    "            * np.exp(1 / p.Delta_exp * (s.v - p.V_exp))\n",
    "            - p.C_m_inv * s.w\n",
    "        )\n",
    "        return AdexState(\n",
    "            v=v_dot,\n",
    "            w=-p.a * p.tau_w_inv * (p.V_l - s.v) - p.tau_w_inv * s.w,\n",
    "            s=p.tau_s_inv * (-s.s + gating_function(s.v) * v_dot),\n",
    "        )\n",
    "\n",
    "    return dynamics\n",
    "\n",
    "\n",
    "def adex_threshold_projection(p: AdexParameters):\n",
    "    def projection(state: AdexState, _):\n",
    "        return AdexState(\n",
    "            v=np.where(state.v > p.v_th, p.v_reset, state.v),\n",
    "            w=np.where(state.v > p.v_th, np.ones_like(state.w), state.w),\n",
    "            s=state.s,\n",
    "        )\n",
    "\n",
    "    return projection\n",
    "\n",
    "\n",
    "def adex_output(state: AdexState, _):\n",
    "    return state.s"
   ]
  }
 ],
 "metadata": {
  "kernelspec": {
   "display_name": "Python 3.9.13 ('jaxsnn')",
   "language": "python",
   "name": "python3"
  },
  "language_info": {
   "codemirror_mode": {
    "name": "ipython",
    "version": 3
   },
   "file_extension": ".py",
   "mimetype": "text/x-python",
   "name": "python",
   "nbconvert_exporter": "python",
   "pygments_lexer": "ipython3",
   "version": "3.10.8"
  },
  "orig_nbformat": 4,
  "vscode": {
   "interpreter": {
    "hash": "2ce9becf890e61a088a42092b30fc67d1fc4ba372184f4d22ac6f19e81ce7425"
   }
  }
 },
 "nbformat": 4,
 "nbformat_minor": 2
}
