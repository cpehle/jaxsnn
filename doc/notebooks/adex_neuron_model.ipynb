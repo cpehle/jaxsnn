{
 "cells": [
  {
   "cell_type": "code",
   "execution_count": 1,
   "metadata": {},
   "outputs": [],
   "source": [
    "from jaxsnn.functional.adex import (\n",
    "    adex_dynamics,\n",
    "    adex_threshold_projection,\n",
    "    AdexParameters,\n",
    "    AdexState,\n",
    ")\n",
    "\n",
    "p = AdexParameters(\n",
    "    g_l=1.0,  # nS\n",
    "    Delta_T=13.0,\n",
    "    tau_w_inv=1 / 22.0,\n",
    "    a=30.0,  # nS\n",
    "    b=0.0,\n",
    "    V_l=0.0,  # mV\n",
    "    V_T=0.2,  # mV\n",
    "    C_m_inv=1.0,  # 1/pF\n",
    "    tau_s_inv=1 / 20.0,\n",
    "    v_th=0.2,  # mV\n",
    "    v_reset=0.0,\n",
    ")"
   ]
  },
  {
   "cell_type": "code",
   "execution_count": 4,
   "metadata": {},
   "outputs": [],
   "source": [
    "from jaxsnn.base import explicit\n",
    "from jaxsnn.functional.threshold import triangular\n",
    "\n",
    "\n",
    "def output(x, u):\n",
    "    return x\n",
    "\n",
    "\n",
    "def heaviside(x):\n",
    "    return 0.5 + 0.5 * np.sign(x)\n",
    "\n",
    "\n",
    "def gating_function(theta, threshold):\n",
    "    def f(v):\n",
    "        dv = threshold - v\n",
    "        return heaviside(dv) * heaviside(theta - dv) * 1 / theta\n",
    "\n",
    "    return f\n",
    "\n",
    "\n",
    "dynamics = adex_dynamics(p, gating_function=gating_function(0.1, p.v_th))\n",
    "equation = explicit.ExplicitConstrainedCDE(\n",
    "    explicit_terms=dynamics,\n",
    "    projection=adex_threshold_projection(p, triangular),\n",
    "    output=output,\n",
    ")"
   ]
  },
  {
   "cell_type": "code",
   "execution_count": 5,
   "metadata": {},
   "outputs": [],
   "source": [
    "import numpy as onp\n",
    "import jaxsnn.base.funcutils as funcutils\n",
    "import jax\n",
    "import jax.numpy as np\n",
    "\n",
    "initial_state = AdexState(v=p.V_l, w=0.0, s=0.0)\n",
    "\n",
    "T = 30000\n",
    "dt = 0.01\n",
    "step_fn = explicit.classic_rk4_cde(equation, dt)\n",
    "\n",
    "stim = onp.zeros(T)\n",
    "stim[7000:14000] = 2.7  # add a square pulse\n",
    "\n",
    "integrator = funcutils.controlled_trajectory(step_fn, stim)\n",
    "integrator = jax.jit(integrator)"
   ]
  },
  {
   "cell_type": "code",
   "execution_count": 6,
   "metadata": {},
   "outputs": [],
   "source": [
    "def integrate_from(initial_state, stim):\n",
    "    integrator = funcutils.controlled_trajectory(step_fn, stim)\n",
    "    _, actual = integrator(initial_state)\n",
    "    return actual\n",
    "\n",
    "\n",
    "integrate_from = jax.jit(integrate_from)\n",
    "actual = integrate_from(initial_state=initial_state, stim=stim)"
   ]
  },
  {
   "cell_type": "code",
   "execution_count": 7,
   "metadata": {},
   "outputs": [
    {
     "data": {
      "application/vnd.jupyter.widget-view+json": {
       "model_id": "7c3ecd48c986454da46a2785277a147d",
       "version_major": 2,
       "version_minor": 0
      },
      "text/plain": [
       "interactive(children=(FloatSlider(value=0.2, description='I_stim', max=50.0), Output()), _dom_classes=('widget…"
      ]
     },
     "metadata": {},
     "output_type": "display_data"
    }
   ],
   "source": [
    "from ipywidgets import interact, IntSlider, FloatSlider\n",
    "from functools import partial\n",
    "import matplotlib.pyplot as plt\n",
    "\n",
    "IntSlider = partial(IntSlider, continuous_update=False)\n",
    "FloatSlider = partial(FloatSlider, continuous_update=True)\n",
    "\n",
    "\n",
    "@interact(\n",
    "    I_stim=FloatSlider(min=0.0, max=50.0, step=0.1, value=0.2),\n",
    ")\n",
    "def experiment(I_stim):\n",
    "    stim = onp.zeros(T)\n",
    "    stim[7000:8000] = I_stim  # add a square pulse\n",
    "    initial_state = AdexState(v=p.V_l, w=0.0, s=0.0)\n",
    "    actual = integrate_from(initial_state=initial_state, stim=stim)\n",
    "    plt.plot(actual.v)"
   ]
  },
  {
   "cell_type": "code",
   "execution_count": null,
   "metadata": {},
   "outputs": [],
   "source": []
  }
 ],
 "metadata": {
  "kernelspec": {
   "display_name": "Python 3.9.13 ('jaxsnn')",
   "language": "python",
   "name": "python3"
  },
  "language_info": {
   "codemirror_mode": {
    "name": "ipython",
    "version": 3
   },
   "file_extension": ".py",
   "mimetype": "text/x-python",
   "name": "python",
   "nbconvert_exporter": "python",
   "pygments_lexer": "ipython3",
   "version": "3.9.13"
  },
  "orig_nbformat": 4,
  "vscode": {
   "interpreter": {
    "hash": "2ce9becf890e61a088a42092b30fc67d1fc4ba372184f4d22ac6f19e81ce7425"
   }
  }
 },
 "nbformat": 4,
 "nbformat_minor": 2
}
