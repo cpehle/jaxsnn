{
  "cells": [
    {
      "cell_type": "code",
      "execution_count": 4,
      "metadata": {},
      "outputs": [],
      "source": [
        "import os\n",
        "import sys\n",
        "\n",
        "nb_dir = os.path.split(os.path.split(os.getcwd())[0])[0]\n",
        "if nb_dir not in sys.path:\n",
        "    sys.path.append(nb_dir)"
      ]
    },
    {
      "cell_type": "code",
      "execution_count": 32,
      "metadata": {},
      "outputs": [],
      "source": [
        "from jax.lax import custom_root, custom_linear_solve\n",
        "from jax.scipy.linalg import solve\n",
        "import jax.numpy as np\n",
        "import jax\n",
        "from jax import jacrev as jacobian"
      ]
    },
    {
      "cell_type": "code",
      "execution_count": 21,
      "metadata": {},
      "outputs": [],
      "source": [
        "from jaxsnn.dataset.yinyang import YinYangDataset\n",
        "from jax import random\n",
        "\n",
        "\n",
        "rng = random.PRNGKey(42)\n",
        "\n",
        "trainset = YinYangDataset(rng, 100)\n",
        "\n",
        "def load_data():\n",
        "    return trainset.vals, trainset.classes"
      ]
    },
    {
      "cell_type": "code",
      "execution_count": 30,
      "metadata": {},
      "outputs": [
        {
          "data": {
            "text/plain": [
              "DeviceArray([107.21371,  89.36005,  90.78631, 108.63995], dtype=float32)"
            ]
          },
          "execution_count": 30,
          "metadata": {},
          "output_type": "execute_result"
        }
      ],
      "source": [
        "X_train, y_train = load_data()\n",
        "\n",
        "def f(x):  # Objective function\n",
        "    residual = np.dot(X_train, x) - y_train\n",
        "    return np.sum(residual ** 2)\n",
        "\n",
        "jax.grad(f, argnums=0)(np.ones(4))"
      ]
    },
    {
      "cell_type": "code",
      "execution_count": 84,
      "metadata": {},
      "outputs": [
        {
          "name": "stdout",
          "output_type": "stream",
          "text": [
            "nan\n"
          ]
        }
      ],
      "source": [
        "X_train, y_train = load_data()\n",
        "X_train = np.hstack((X_train, X_train, X_train))\n",
        "num_features = 12\n",
        "\n",
        "def f(x):  # Objective function\n",
        "    residual = np.dot(X_train, x) - y_train\n",
        "    return np.sum(residual ** 2)\n",
        "\n",
        "# Since f is differentiable and unconstrained, the optimality\n",
        "# condition F is simply the gradient of f in the first argument\n",
        "F = jax.grad(f, argnums=0)\n",
        "\n",
        "def solver(F, init_x):\n",
        "    del init_x\n",
        "    XX = np.dot(X_train.T, X_train)  # type: ignore\n",
        "    Xy = np.dot(X_train.T, y_train)  # type: ignore\n",
        "    # Finds the ridge reg solution by solving a linear system\n",
        "    return np.linalg.solve(XX, Xy)\n",
        "\n",
        "\n",
        "def tangent_solver(g, y):\n",
        "    return np.linalg.solve(jacobian(g)(y), y)\n",
        "\n",
        "init_x = np.zeros(num_features)\n",
        "sol = custom_root(F, init_x, solver, tangent_solver)\n",
        "print(f(sol))"
      ]
    },
    {
      "cell_type": "code",
      "execution_count": 96,
      "metadata": {},
      "outputs": [],
      "source": [
        "from jaxsnn.module.lif import LIFParameters\n",
        "import jax.numpy as np\n",
        "import jax\n",
        "\n",
        "\n",
        "def ridge_solver(F, init_x):\n",
        "    del init_x\n",
        "    XX = np.dot(X_train.T, X_train)  # type: ignore\n",
        "    Xy = np.dot(X_train.T, y_train)  # type: ignore\n",
        "    return np.linalg.solve(XX, Xy)\n",
        "\n",
        "\n",
        "def tangent_solver(g, y):\n",
        "    return np.linalg.solve(jacobian(g)(y), y)\n",
        "\n",
        "A = np.array([[-1,1], [0,-1]])\n",
        "x0 = np.array([0.0, 1.0])\n",
        "\n",
        "def v(t):\n",
        "    return np.dot(jax.scipy.linalg.expm(A * t), x0)[0]\n",
        "\n",
        "init_x = 0.1\n",
        "\n",
        "f(1.0)\n",
        "# sol = custom_root(f, init_x, ridge_solver, tangent_solver)\n",
        "\n",
        "\n",
        "\n"
      ]
    },
    {
      "cell_type": "code",
      "execution_count": 48,
      "metadata": {},
      "outputs": [
        {
          "data": {
            "text/plain": [
              "DeviceArray(58.97054, dtype=float32)"
            ]
          },
          "execution_count": 48,
          "metadata": {},
          "output_type": "execute_result"
        }
      ],
      "source": []
    },
    {
      "cell_type": "code",
      "execution_count": null,
      "metadata": {},
      "outputs": [],
      "source": []
    }
  ],
  "metadata": {
    "kernelspec": {
      "display_name": "Python 3.10.0 64-bit ('3.10.0')",
      "language": "python",
      "name": "python3"
    },
    "language_info": {
      "codemirror_mode": {
        "name": "ipython",
        "version": 3
      },
      "file_extension": ".py",
      "mimetype": "text/x-python",
      "name": "python",
      "nbconvert_exporter": "python",
      "pygments_lexer": "ipython3",
      "version": "3.10.0"
    },
    "orig_nbformat": 4,
    "vscode": {
      "interpreter": {
        "hash": "56d96b8a86e145020d6ababe354d6afecb59aba273078a8fcdc758efbc4b784a"
      }
    }
  },
  "nbformat": 4,
  "nbformat_minor": 2
}
