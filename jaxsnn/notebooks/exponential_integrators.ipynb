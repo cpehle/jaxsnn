{
 "cells": [
  {
   "cell_type": "code",
   "execution_count": 180,
   "metadata": {},
   "outputs": [
    {
     "name": "stdout",
     "output_type": "stream",
     "text": [
      "0.3.20\n"
     ]
    },
    {
     "data": {
      "text/plain": [
       "((0, 0),\n",
       " (DeviceArray([1, 1, 1, 1, 1, 1, 1, 1, 1, 1], dtype=int32, weak_type=True),\n",
       "  DeviceArray([2, 2, 2, 2, 2, 2, 2, 2, 2, 2], dtype=int32, weak_type=True)))"
      ]
     },
     "execution_count": 180,
     "metadata": {},
     "output_type": "execute_result"
    }
   ],
   "source": [
    "import jax\n",
    "import jax.numpy as np\n",
    "import matplotlib.pyplot as plt\n",
    "from functools import partial\n",
    "from jax.tree_util import (tree_flatten, tree_unflatten, treedef_is_leaf,\n",
    "                           tree_map)\n",
    "\n",
    "from jax.lax import fori_loop, while_loop, scan\n",
    "# from jax import jit\n",
    "\n",
    "# Should be >=0.3.20 for `jax.debug` package\n",
    "print(jax.__version__)\n",
    "\n",
    "def jit(f):\n",
    "    return f\n",
    "\n",
    "def fori_loop(lower, upper, body_fun, init_val):\n",
    "    val = init_val\n",
    "    for i in range(lower, upper):\n",
    "        val = body_fun(i, val)\n",
    "    return val\n",
    "\n",
    "\n",
    "def while_loop(cond_fun, body_fun, init_val):\n",
    "    val = init_val\n",
    "    while cond_fun(val):\n",
    "        val = body_fun(val)\n",
    "    return val\n",
    "\n",
    "\n",
    "def scan(f, init, xs, length=None):\n",
    "    xs_flat, xs_tree = tree_flatten(xs)\n",
    "    carry = init\n",
    "    ys = []\n",
    "    length = len(xs_flat[0])\n",
    "    for i in range(length):\n",
    "        xs_slice = [x[i] for x in xs_flat]\n",
    "        carry, y = f(carry, tree_unflatten(xs_tree, xs_slice))\n",
    "        ys.append(y)\n",
    "    stack = lambda *ys: jax.numpy.stack(ys)\n",
    "    stacked_y = tree_map(stack, *ys)\n",
    "    return carry, stacked_y\n",
    "\n",
    "# test scan\n",
    "def foo(carry, i):\n",
    "    return (0, 0), (1, 2)\n",
    "\n",
    "scan(foo, (0, 0), np.arange(10))\n",
    "scan(foo, (0, 0), (np.arange(10), np.arange(20, 30)))"
   ]
  },
  {
   "cell_type": "code",
   "execution_count": 126,
   "metadata": {},
   "outputs": [],
   "source": [
    "tau_syn = 5e-4\n",
    "tau_mem = 1e-3\n",
    "\n",
    "tau_mem_inv = 1.0 / tau_mem\n",
    "tau_syn_inv = 1.0 / tau_syn\n",
    "\n",
    "A = np.array([[-tau_mem_inv, tau_mem_inv], [0,-tau_syn_inv]])\n",
    "\n",
    "def f(A, x0, t):\n",
    "  return np.dot(jax.scipy.linalg.expm(A * t), x0)\n",
    "\n",
    "dynamics = partial(f, A)\n",
    "batched_dynamics = jax.vmap(dynamics, in_axes=(0, None))"
   ]
  },
  {
   "cell_type": "code",
   "execution_count": 127,
   "metadata": {},
   "outputs": [],
   "source": [
    "y0 = np.array([0.0, 1.0])\n",
    "xs = np.arange(0, 5e-3, 1e-5)\n",
    "ys = jax.vmap(partial(dynamics, y0))(xs)"
   ]
  },
  {
   "cell_type": "code",
   "execution_count": 128,
   "metadata": {},
   "outputs": [
    {
     "data": {
      "text/plain": [
       "[<matplotlib.lines.Line2D at 0x30a239720>,\n",
       " <matplotlib.lines.Line2D at 0x30a286dd0>]"
      ]
     },
     "execution_count": 128,
     "metadata": {},
     "output_type": "execute_result"
    },
    {
     "data": {
      "image/png": "[encoded data removed]",
      "text/plain": [
       "<Figure size 432x288 with 1 Axes>"
      ]
     },
     "metadata": {
      "needs_background": "light"
     },
     "output_type": "display_data"
    }
   ],
   "source": [
    "plt.xlabel('Time')\n",
    "plt.plot(xs, ys)"
   ]
  },
  {
   "cell_type": "markdown",
   "metadata": {},
   "source": [
    "In order to determine whether any jump had occured it is sufficient to focus on a given time interval $[t_k, t_{k+1}]$, we can then consider a jump condition $j$, for example one that is affine\n",
    "$$j(t) = P y(t) - b$$\n",
    "and do a root finding procedure on this interval."
   ]
  },
  {
   "cell_type": "code",
   "execution_count": 129,
   "metadata": {},
   "outputs": [],
   "source": [
    "# c.f.: https://github.com/google/jax/issues/8744\n",
    "def newton(f, y0, x0):\n",
    "  \"\"\"Newton's method for root-finding.\"\"\"\n",
    "  initial_state = (0, x0)\n",
    "\n",
    "  def cond(state):\n",
    "    it, x = state\n",
    "    return (it < 10)\n",
    "\n",
    "  def body(state):\n",
    "    it, x = state\n",
    "    fx, dfx = f(y0, x), jax.grad(f, argnums=1)(y0, x)\n",
    "    step = fx / dfx\n",
    "    new_state = it + 1, x - step\n",
    "    return new_state\n",
    "\n",
    "  res = jax.lax.while_loop(\n",
    "    cond,\n",
    "    body,\n",
    "    initial_state,\n",
    "  )[1]\n",
    "  return np.where(res > 0, res, np.nan)"
   ]
  },
  {
   "cell_type": "code",
   "execution_count": 130,
   "metadata": {},
   "outputs": [],
   "source": [
    "# c.f.: https://github.com/google/jax/issues/8744\n",
    "\n",
    "def newton(f, y0, initial_guess):\n",
    "  \"\"\"Newton's method for root-finding.\"\"\"\n",
    "  initial_state = (initial_guess)\n",
    "\n",
    "  def body(x, it):\n",
    "    fx, dfx = f(y0, x), jax.grad(f, argnums=1)(y0, x)\n",
    "    step = fx / dfx\n",
    "    return x - step, 0\n",
    "\n",
    "  res = jax.lax.scan(body, initial_state, np.arange(6))[0]\n",
    "  return np.where(res > 0, res, np.nan)"
   ]
  },
  {
   "cell_type": "code",
   "execution_count": 131,
   "metadata": {},
   "outputs": [],
   "source": [
    "def ttfs(v_th, state, y0):\n",
    "    v_0, i_0 = state\n",
    "    a_1 = i_0\n",
    "    a_2 = v_0 + i_0\n",
    "    T = tau_mem * np.log(2*a_1 / (a_2 + np.sqrt(a_2**2 - 4*a_1 * v_th)))\n",
    "    return T"
   ]
  },
  {
   "cell_type": "code",
   "execution_count": 132,
   "metadata": {},
   "outputs": [
    {
     "name": "stdout",
     "output_type": "stream",
     "text": [
      "0.00020306182\n"
     ]
    },
    {
     "data": {
      "text/plain": [
       "<matplotlib.lines.Line2D at 0x2b121b880>"
      ]
     },
     "execution_count": 132,
     "metadata": {},
     "output_type": "execute_result"
    },
    {
     "data": {
      "image/png": "[encoded data removed]",
      "text/plain": [
       "<Figure size 432x288 with 1 Axes>"
      ]
     },
     "metadata": {
      "needs_background": "light"
     },
     "output_type": "display_data"
    }
   ],
   "source": [
    "y0 = np.array([0.0, 2.0])\n",
    "xs = np.arange(0, 5e-3 ,1e-5)\n",
    "v_th = 0.3\n",
    "\n",
    "\n",
    "def jump_condition(dynamics, v_th, x0, t):\n",
    "  return dynamics(x0, t)[0] - v_th # this implements the P y(t) - b above\n",
    "\n",
    "\n",
    "jc = partial(jump_condition, dynamics, v_th)\n",
    "ys = jax.vmap(partial(dynamics, y0))(xs)[:, 0]\n",
    "\n",
    "newton_solver = jax.jit(partial(newton, jc))\n",
    "ttfs_solver = jax.jit(partial(ttfs, v_th))\n",
    "\n",
    "spike_time = newton_solver(y0, 1e-4)\n",
    "spike_time = ttfs_solver(y0, 1e-4)\n",
    "\n",
    "print(spike_time)\n",
    "\n",
    "# %timeit newton_solver(y0, 1e-4)\n",
    "# %timeit ttfs_solver(y0, 1e-4)\n",
    "\n",
    "plt.xlabel('Time')\n",
    "plt.plot(xs, ys)\n",
    "plt.axvline(spike_time, linestyle='-.')"
   ]
  },
  {
   "cell_type": "code",
   "execution_count": 133,
   "metadata": {},
   "outputs": [],
   "source": [
    "# let's wrap the newton solver with custom root\n",
    "\n",
    "def custom_newton(f, initial_guess):\n",
    "  \"\"\"Newton's method for root-finding.\"\"\"\n",
    "  initial_state = (initial_guess)\n",
    "\n",
    "  def body(x, it):\n",
    "    fx, dfx = f(x), jax.grad(f)(x)\n",
    "    step = fx / dfx\n",
    "    return x - step, 0\n",
    "\n",
    "  res = jax.lax.scan(body, initial_state, np.arange(6))[0]\n",
    "  return np.where(res > 0, res, np.nan)\n",
    "\n",
    "\n",
    "def tangent_solve(g, y):\n",
    "    return y / g(1.0)\n",
    "\n",
    "solve = custom_newton\n",
    "\n",
    "@jax.jit\n",
    "def wrapped_newton_solver(y0, initial_guess):\n",
    "    f = partial(jc, y0)\n",
    "    return jax.lax.custom_root(f, initial_guess, solve, tangent_solve)"
   ]
  },
  {
   "cell_type": "code",
   "execution_count": 134,
   "metadata": {},
   "outputs": [
    {
     "name": "stdout",
     "output_type": "stream",
     "text": [
      "[       nan 0.00051083        nan]\n"
     ]
    }
   ],
   "source": [
    "# do this for two neurons\n",
    "y0 = np.array([[0.0, 1.0], [0.1, 1.0], [0.0, 0.0]])\n",
    "batched_newton_solver = jax.jit(jax.vmap(newton_solver, in_axes=(0, None)))\n",
    "batched_wrapped_newton_solver = jax.jit(jax.vmap(wrapped_newton_solver, in_axes=(0, None)))\n",
    "batched_ttfs_solver = jax.jit(jax.vmap(ttfs_solver, in_axes=(0, None)))\n",
    "\n",
    "spike_times = batched_ttfs_solver(y0, 1e-4)\n",
    "print(spike_times)\n",
    "# %timeit batched_newton_solver(y0, 1e-4)\n",
    "# %timeit batched_wrapped_newton_solver(y0, 1e-4)\n",
    "# %timeit batched_ttfs_solver(y0, 1e-4)"
   ]
  },
  {
   "cell_type": "code",
   "execution_count": 135,
   "metadata": {},
   "outputs": [],
   "source": [
    "# check that nevative spike times return nan\n",
    "assert np.isnan(ttfs_solver(np.array([0.0, 0.1]), 1e-4))\n",
    "assert np.isnan(newton_solver(np.array([0.0, 0.1]), 1e-4))"
   ]
  },
  {
   "cell_type": "code",
   "execution_count": 136,
   "metadata": {},
   "outputs": [],
   "source": [
    "def single_tr_equation(weights, x, spike_idx):\n",
    "  i_new = x[1] + weights[0]\n",
    "  return np.array([0.0, i_new])\n",
    "\n",
    "def tr_equation(weights, x, spike_idx):\n",
    "  x = x.at[spike_idx, 0].set(0.0)\n",
    "  i_new = x[:, 1] + weights[spike_idx, :]\n",
    "  return np.stack((x[:, 0], i_new), axis=1)\n",
    "\n",
    "\n",
    "def step(dynamics, solver, tr_dynamics, weights, y, dt):\n",
    "  t_spike = solver(y, 1e-4)\n",
    "\n",
    "  # only integrate to next boundary\n",
    "  spike_idx = np.nanargmin(t_spike)\n",
    "  no_spike = spike_idx == -1\n",
    "  t_dyn = jax.lax.cond(no_spike, lambda: dt, lambda: t_spike[spike_idx])\n",
    "  y_minus = dynamics(y, t_dyn)\n",
    "\n",
    "  true_fun = lambda weights, y_minus, spike_idx: y_minus\n",
    "  false_fun = tr_dynamics\n",
    "  args = (weights, y_minus, spike_idx)\n",
    "  y_plus = jax.lax.cond(no_spike, true_fun, false_fun, *args)\n",
    "\n",
    "  return y_plus, t_dyn, spike_idx"
   ]
  },
  {
   "cell_type": "code",
   "execution_count": 137,
   "metadata": {},
   "outputs": [
    {
     "name": "stdout",
     "output_type": "stream",
     "text": [
      "Next spike at: nan\n",
      "Next spike from neuron 0 at 9.999999747378752e-05\n",
      "Next spike from neuron 1 at 0.0003000000142492354\n",
      "Next spike from neuron 0 at inf\n"
     ]
    }
   ],
   "source": [
    "# but how can we feed input spikes into the net?\n",
    "# we start with maximal one input spike per layer\n",
    "y0 = np.array([[0.0, 0.0], [0.0, 0.2], [0.0, 0.0]])\n",
    "input_spikes = np.array([1e-4, 3e-4, np.inf])\n",
    "\n",
    "t_spike = batched_ttfs_solver(y0, 1e-3)\n",
    "print(f\"Next spike at: {np.min(t_spike)}\")\n",
    "\n",
    "t_spike = np.where(np.isnan(t_spike), np.inf, t_spike)\n",
    "merged = np.minimum(t_spike, input_spikes)\n",
    "next_spike_idx = np.argmin(merged)\n",
    "next_spike_time = merged[next_spike_idx]\n",
    "print(f\"Next spike from neuron {next_spike_idx} at {next_spike_time}\")\n",
    "\n",
    "# but we only want to take input spikes that are still in the future\n",
    "# suppose our current time is t\n",
    "t = 2e-4\n",
    "input_spikes = np.where(input_spikes > t, input_spikes, np.inf)  # type: ignore\n",
    "merged = np.minimum(t_spike, input_spikes)\n",
    "next_spike_idx = np.argmin(merged)\n",
    "next_spike_time = merged[next_spike_idx]\n",
    "print(f\"Next spike from neuron {next_spike_idx} at {next_spike_time}\")\n",
    "\n",
    "# this also works. But what is returned if no next spike is coming up?\n",
    "t = 5e-4\n",
    "input_spikes = np.where(input_spikes > t, input_spikes, np.inf)  # type: ignore\n",
    "merged = np.minimum(t_spike, input_spikes)\n",
    "next_spike_idx = np.argmin(merged)\n",
    "next_spike_time = merged[next_spike_idx]\n",
    "print(f\"Next spike from neuron {next_spike_idx} at {next_spike_time}\")\n"
   ]
  },
  {
   "cell_type": "code",
   "execution_count": 181,
   "metadata": {},
   "outputs": [],
   "source": [
    "# so we can rewrite the step function\n",
    "def step(dynamics, solver, tr_dynamics, weights, input_spikes, y, dt):\n",
    "  t_spike = solver(y, 1e-4)\n",
    "\n",
    "  # replace nan by inf, TODO: solver should return inf instead of nan\n",
    "  t_spike = np.where(np.isnan(t_spike), np.inf, t_spike)\n",
    "\n",
    "  # combined 'external' and 'internal' spikes\n",
    "  # only regard future input spikes\n",
    "  input_spikes = np.where(input_spikes > 0.0, input_spikes, np.inf)  # type: ignore\n",
    "  combined = np.minimum(t_spike, input_spikes)\n",
    "  spike_idx = np.argmin(combined)\n",
    "  spike_time = combined[spike_idx]\n",
    "\n",
    "  no_spike = spike_time == np.inf\n",
    "  # update spike idx\n",
    "  spike_idx = jax.lax.cond(no_spike, lambda: -1, lambda: spike_idx)\n",
    "  t_dyn = np.minimum(spike_time, dt)\n",
    "  y_minus = dynamics(y, t_dyn)\n",
    "\n",
    "  true_fun = lambda weights, y_minus, spike_idx: y_minus\n",
    "  false_fun = tr_dynamics\n",
    "  args = (weights, y_minus, spike_idx)\n",
    "  y_plus = jax.lax.cond(no_spike, true_fun, false_fun, *args)\n",
    "\n",
    "  return y_plus, t_dyn, spike_idx"
   ]
  },
  {
   "cell_type": "code",
   "execution_count": 182,
   "metadata": {},
   "outputs": [
    {
     "data": {
      "image/png": "[encoded data removed]",
      "text/plain": [
       "<Figure size 432x288 with 1 Axes>"
      ]
     },
     "metadata": {
      "needs_background": "light"
     },
     "output_type": "display_data"
    }
   ],
   "source": [
    "# train two neurons\n",
    "# train one neuron with a target spike time for the second spike\n",
    "\n",
    "n_neurons = 2\n",
    "weights = (1 - np.eye(n_neurons)) * 3.0  # type: ignore\n",
    "\n",
    "step_fn = partial(step, batched_dynamics, batched_ttfs_solver, tr_equation)\n",
    "input_spikes = np.array([0.001, np.inf])\n",
    "y = np.array([[0.0, 0.0], [0.0, 0.0]])\n",
    "dt = 0.1\n",
    "\n",
    "def first_spike(weights, y):\n",
    "    y, dt, spike_idx = step_fn(weights, input_spikes, y, 0.1)\n",
    "    y, dt, spike_idx = step_fn(weights, input_spikes - dt, y, 0.1)\n",
    "    return ((0.00015 - dt) / tau_mem) ** 2\n",
    "\n",
    "loss = []\n",
    "for i in range(10):\n",
    "    value, grad = jax.value_and_grad(first_spike)(weights, y)\n",
    "    loss.append(value)\n",
    "    weights = weights - 10 * grad\n",
    "\n",
    "plt.plot(np.arange(len(loss)), loss)\n",
    "plt.show()"
   ]
  },
  {
   "cell_type": "code",
   "execution_count": 139,
   "metadata": {},
   "outputs": [
    {
     "name": "stdout",
     "output_type": "stream",
     "text": [
      "Neuron 0 spiked at 0.00010\n",
      "Neuron 1 spiked at 0.00012\n",
      "37.1 ms ± 649 µs per loop (mean ± std. dev. of 7 runs, 10 loops each)\n"
     ]
    }
   ],
   "source": [
    "n_neurons = 3\n",
    "weights = (1 - np.eye(n_neurons)) * 3.0  # type: ignore\n",
    "\n",
    "y = np.zeros((n_neurons, 2))\n",
    "input_spikes = np.array([1e-4, np.inf, np.inf])\n",
    "\n",
    "step_fn = jit(partial(step, batched_dynamics, batched_wrapped_newton_solver, tr_equation))\n",
    "y_plus, dt, spike_idx = step_fn(weights, input_spikes, y, 0.1)\n",
    "print(f\"Neuron {spike_idx} spiked at {dt:.5f}\")\n",
    "\n",
    "# second run\n",
    "y_plus, dt, spike_idx = step_fn(weights, input_spikes - dt, y_plus, 0.1)\n",
    "print(f\"Neuron {spike_idx} spiked at {dt:.5f}\")\n",
    "\n",
    "%timeit step_fn(weights, input_spikes, y, 0.1)"
   ]
  },
  {
   "cell_type": "code",
   "execution_count": 183,
   "metadata": {},
   "outputs": [],
   "source": [
    "def forward_integration(\n",
    "      step_fn,\n",
    "      n_spikes,\n",
    "      weights,\n",
    "      initial_state,\n",
    "      input_spikes,\n",
    "      t_max,\n",
    "    ):\n",
    "  \n",
    "  def body(state, it):\n",
    "    t, y = state  # t is current lower bound\n",
    "   \n",
    "    dt = t_max - t\n",
    "    y_plus, dt_dyn, spike_idx = step_fn(weights, input_spikes - t, y, dt)\n",
    "    \n",
    "    t = t + dt_dyn\n",
    "    state = (t, y_plus)\n",
    "    return state, (t, spike_idx)\n",
    "\n",
    "  t = 0\n",
    "  return scan(body, (t, initial_state), np.arange(n_spikes))\n",
    "\n",
    "# forward = jit(partial(forward_integration, step_fn, 10))\n",
    "# forward(weights, y, input_spikes, 0.1)\n",
    "# %timeit forward(weights, y, input_spikes, 0.1)"
   ]
  },
  {
   "cell_type": "code",
   "execution_count": 184,
   "metadata": {},
   "outputs": [],
   "source": [
    "def init_weights(rng, n_neurons):\n",
    "  off_diagonal = (1 - np.eye(n_neurons))\n",
    "  weights = jax.random.uniform(rng, (n_neurons, n_neurons)) * 3.0\n",
    "  return off_diagonal * weights\n",
    "\n",
    "\n",
    "def first_spike(spikes, idx):\n",
    "    \"\"\"Return spike times\"\"\"\n",
    "    spike_times, spike_idx = spikes\n",
    "    output_idx = np.where(spike_idx == idx)[0]\n",
    "    return spike_times[output_idx][0]"
   ]
  },
  {
   "cell_type": "code",
   "execution_count": 185,
   "metadata": {},
   "outputs": [
    {
     "data": {
      "image/png": "[encoded data removed]",
      "text/plain": [
       "<Figure size 432x288 with 1 Axes>"
      ]
     },
     "metadata": {
      "needs_background": "light"
     },
     "output_type": "display_data"
    }
   ],
   "source": [
    "# now again train two neurons with the forward integration functino\n",
    "\n",
    "n_neurons = 4\n",
    "n_spikes = 10\n",
    "rng = jax.random.PRNGKey(42)\n",
    "weights = init_weights(rng, n_neurons)\n",
    "\n",
    "step_fn = partial(step, batched_dynamics, batched_wrapped_newton_solver, tr_equation)\n",
    "forward = jit(partial(forward_integration, step_fn, n_spikes))\n",
    "input_spikes = np.array([1e-4, 1.2e-4, np.inf, np.inf])\n",
    "y = np.zeros((n_neurons, 2))\n",
    "\n",
    "def loss_fn(weights, y):\n",
    "    state, spikes = forward(weights, y, input_spikes, 0.1)\n",
    "    pred = np.array([first_spike(spikes, 2), first_spike(spikes, 3)])\n",
    "    target = np.array([0.00035, 0.00025])\n",
    "    return np.sum((np.abs((pred - target) / tau_mem)))\n",
    "\n",
    "\n",
    "def loss_count_fn(weights, y):\n",
    "    # this does not work for some reason\n",
    "    state, spikes = forward(weights, y, input_spikes, 0.1)\n",
    "    spike_times, spike_idx = spikes\n",
    "    pred = np.array([np.count_nonzero(spike_idx == 2), np.count_nonzero(spike_idx == 3)])\n",
    "    target = np.array([5.0, 0.0])\n",
    "    return np.sum((pred - target) ** 2)  # type: ignore\n",
    "\n",
    "loss = []\n",
    "grad_fn = jax.value_and_grad(loss_fn)\n",
    "lr = 1.0\n",
    "for i in range(10):\n",
    "    value, grad = grad_fn(weights, y)\n",
    "    loss.append(value)\n",
    "    lr *= 0.98\n",
    "    weights = weights - lr * np.where(np.isnan(grad), 0.0, grad)  # type: ignore\n",
    "\n",
    "plt.plot(np.arange(len(loss)), loss)\n",
    "plt.show()"
   ]
  },
  {
   "cell_type": "code",
   "execution_count": 116,
   "metadata": {},
   "outputs": [
    {
     "name": "stdout",
     "output_type": "stream",
     "text": [
      "10 spikes: (5, 3, 2)\n"
     ]
    }
   ],
   "source": [
    "n_neurons = 3\n",
    "rng = jax.random.PRNGKey(42)\n",
    "weights = init_weights(rng, n_neurons)\n",
    "input_spikes = np.array([0.001, 0.002, np.inf])\n",
    "n_spikes = 10\n",
    "\n",
    "t_max = 20 * tau_mem\n",
    "initial_state = np.zeros((n_neurons, 2))\n",
    "\n",
    "forward = jit(partial(forward_integration, step_fn, n_spikes))\n",
    "(t, y), spikes = forward(weights, initial_state, input_spikes, t_max)\n",
    "\n",
    "# %timeit forward(weights, initial_state, input_spikes, t_max)\n",
    "\n",
    "spike_times, spike_idx = spikes\n",
    "spike_times = spike_times[spike_idx >= 0]\n",
    "spike_idx = spike_idx[spike_idx >= 0]\n",
    "print(f\"{len(spike_times)} spikes: {len(spike_idx[spike_idx == 0]), len(spike_idx[spike_idx == 1]), len(spike_idx[spike_idx == 2])}\")"
   ]
  },
  {
   "cell_type": "code",
   "execution_count": 186,
   "metadata": {},
   "outputs": [
    {
     "data": {
      "text/plain": [
       "(DeviceArray(0.00023926, dtype=float32),\n",
       " DeviceArray([[           nan,            nan,            nan,\n",
       "               -6.5681597e-05],\n",
       "              [           nan,  0.0000000e+00,            nan,\n",
       "               -5.7949215e-05],\n",
       "              [ 0.0000000e+00,  0.0000000e+00,  0.0000000e+00,\n",
       "                0.0000000e+00],\n",
       "              [ 0.0000000e+00,  0.0000000e+00,  0.0000000e+00,\n",
       "                0.0000000e+00]], dtype=float32))"
      ]
     },
     "execution_count": 186,
     "metadata": {},
     "output_type": "execute_result"
    }
   ],
   "source": [
    "# Let's check if we have a valid gradient for the first spike time with regards to the weights\n",
    "weights = init_weights(rng, n_neurons)\n",
    "initial_state = np.zeros((n_neurons, 2))\n",
    "\n",
    "def objective(weights, neuron_idx):\n",
    "    (t, y), (spikes) = forward(weights, initial_state, input_spikes, t_max)\n",
    "    return first_spike(spikes, neuron_idx)\n",
    "\n",
    "# why do we not have a valid gradient?\n",
    "jax.value_and_grad(objective)(weights, 3)"
   ]
  },
  {
   "cell_type": "code",
   "execution_count": 187,
   "metadata": {},
   "outputs": [
    {
     "name": "stdout",
     "output_type": "stream",
     "text": [
      "(10, 10)\n"
     ]
    }
   ],
   "source": [
    "# let's do forward for a batch of input spikes \n",
    "batched_forward = jax.vmap(forward, in_axes=(None, None, 0, None))\n",
    "batched_input = np.repeat(input_spikes[None, :], 10, axis=0)  # type: ignore\n",
    "(t, y), (spike_times, spike_idx) = batched_forward(weights, initial_state, batched_input, t_max)\n",
    "print(spike_times.shape)"
   ]
  },
  {
   "cell_type": "code",
   "execution_count": 227,
   "metadata": {},
   "outputs": [],
   "source": [
    "def loss_and_spikes(weights, batch):\n",
    "  input_spikes, target = batch\n",
    "  t_max = 100 * tau_mem\n",
    "  initial_state = np.zeros((weights.shape[0], 2))\n",
    "  (t, y), (spike_times, spike_idx) = forward(weights, initial_state, input_spikes, t_max)\n",
    "\n",
    "  min_ix1 = np.nanargmin(np.where(spike_idx == 2, spike_times, np.nan))\n",
    "  min_ix2 = np.nanargmin(np.where(spike_idx == 3, spike_times, np.nan))\n",
    "  min_ix = np.array([min_ix1, min_ix2])\n",
    "  assert not np.any(min_ix == -1)\n",
    "  jax.debug.print(f\"Min ix: {min_ix}\")\n",
    "  min_spike_time = spike_times[min_ix]\n",
    "  loss_value = np.sum(np.log(1 + np.exp(-(min_spike_time - target)**2 / tau_mem))) * tau_mem_inv\n",
    "  return loss_value, (spike_times, spike_idx)\n",
    "\n",
    "\n",
    "def update(weights, batch):\n",
    "  (loss, spikes), grad = jax.value_and_grad(loss_and_spikes, has_aux=True)(weights, batch)  # type: ignore\n",
    "  weights = jax.tree_map(lambda f, df: f - df, weights, np.where(np.isnan(grad), 0, grad))\n",
    "  return weights, (loss, spikes)"
   ]
  },
  {
   "cell_type": "code",
   "execution_count": 228,
   "metadata": {},
   "outputs": [],
   "source": [
    "# now again train two neurons with the forward integration functino\n",
    "\n",
    "n_neurons = 4\n",
    "n_spikes = 20\n",
    "rng = jax.random.PRNGKey(42)\n",
    "weights = init_weights(rng, n_neurons)\n",
    "\n",
    "step_fn = partial(step, batched_dynamics, batched_wrapped_newton_solver, tr_equation)\n",
    "forward = jit(partial(forward_integration, step_fn, n_spikes))\n",
    "input_spikes = np.array([1e-4, 1.2e-4, np.inf, np.inf])\n",
    "y = np.zeros((n_neurons, 2))\n",
    "\n",
    "# def loss_fn(weights, y):\n",
    "#     state, spikes = forward(weights, y, input_spikes, 0.1)\n",
    "#     pred = np.array([first_spike(spikes, 2), first_spike(spikes, 3)])\n",
    "#     target = np.array([0.00035, 0.00025])\n",
    "#     return np.sum((np.abs((pred - target) / tau_mem)))\n",
    "\n",
    "\n",
    "# def loss_count_fn(weights, y):\n",
    "#     # this does not work for some reason\n",
    "#     state, spikes = forward(weights, y, input_spikes, 0.1)\n",
    "#     spike_times, spike_idx = spikes\n",
    "#     pred = np.array([np.count_nonzero(spike_idx == 2), np.count_nonzero(spike_idx == 3)])\n",
    "#     target = np.array([5.0, 0.0])\n",
    "#     return np.sum((pred - target) ** 2)  # type: ignore\n",
    "\n",
    "# loss = []\n",
    "# grad_fn = jax.value_and_grad(loss_fn)\n",
    "# lr = 1.0\n",
    "# for i in range(10):\n",
    "#     value, grad = grad_fn(weights, y)\n",
    "#     loss.append(value)\n",
    "#     lr *= 0.98\n",
    "#     weights = weights - lr * np.where(np.isnan(grad), 0.0, grad)  # type: ignore\n",
    "\n",
    "# plt.plot(np.arange(len(loss)), loss)\n",
    "# plt.show()"
   ]
  },
  {
   "cell_type": "code",
   "execution_count": 229,
   "metadata": {},
   "outputs": [
    {
     "name": "stdout",
     "output_type": "stream",
     "text": [
      "Min ix: [9 1]\n",
      "Min ix: [9 1]\n",
      "Min ix: [9 1]\n",
      "Min ix: [9 1]\n",
      "Min ix: [9 1]\n",
      "Min ix: [9 1]\n",
      "Min ix: [9 1]\n",
      "Min ix: [9 1]\n",
      "Min ix: [9 1]\n",
      "Min ix: [9 1]\n",
      "Min ix: [9 1]\n",
      "Min ix: [9 1]\n",
      "Min ix: [9 1]\n",
      "Min ix: [9 1]\n",
      "Min ix: [9 1]\n",
      "Min ix: [9 1]\n",
      "Min ix: [9 1]\n",
      "Min ix: [9 1]\n",
      "Min ix: [9 1]\n",
      "Min ix: [9 1]\n"
     ]
    }
   ],
   "source": [
    "# let's train for multiple epochs\n",
    "n_neurons = 4\n",
    "epochs = 20\n",
    "weights = init_weights(rng, n_neurons) * 2.0\n",
    "\n",
    "input_spikes = np.array([0.001, 0.0014, np.inf, np.inf])\n",
    "input_spikes = np.repeat(input_spikes[None, :], epochs, axis=0)  # type: ignore\n",
    "\n",
    "target_times = np.array([2 * tau_mem, 6 * tau_mem])\n",
    "target_times = np.repeat(target_times[None, :], epochs, axis=0)  # type: ignore\n",
    "weights, (loss, spikes) = scan(update, weights, (input_spikes, target_times))"
   ]
  },
  {
   "cell_type": "code",
   "execution_count": 223,
   "metadata": {},
   "outputs": [
    {
     "data": {
      "text/plain": [
       "DeviceArray([0.37094116, 0.34853786, 0.3422616 , 0.33821583, 0.3363318 ,\n",
       "             0.33509645, 0.3341863 , 0.33347175, 0.33288777, 0.33239684],            dtype=float32)"
      ]
     },
     "execution_count": 223,
     "metadata": {},
     "output_type": "execute_result"
    }
   ],
   "source": [
    "loss"
   ]
  },
  {
   "cell_type": "code",
   "execution_count": 73,
   "metadata": {},
   "outputs": [
    {
     "data": {
      "image/png": "[encoded data removed]",
      "text/plain": [
       "<Figure size 432x288 with 1 Axes>"
      ]
     },
     "metadata": {
      "needs_background": "light"
     },
     "output_type": "display_data"
    }
   ],
   "source": [
    "spike_times, spike_idx = spikes\n",
    "\n",
    "output_idx = np.nanargmin(np.where(spike_idx == 3, spike_idx, np.nan), axis=1)\n",
    "output_time = spike_times[np.arange(10), output_idx]\n",
    "\n",
    "plt.plot(np.arange(len(output_time)), output_time)\n",
    "plt.show()"
   ]
  },
  {
   "cell_type": "code",
   "execution_count": 162,
   "metadata": {},
   "outputs": [],
   "source": [
    "# create a circular dataset\n",
    "def dataset(key, batch_size, n_samples):\n",
    "    r = 1\n",
    "    t_late = 3 * tau_syn\n",
    "    x = jax.random.uniform(key, (n_samples, batch_size, 2))\n",
    "    y = np.where(x[:,:,0] - x[:,:,1] > 1, 1, 0)\n",
    "    one_hot = np.array([[0.0, tau_mem], [tau_mem, 0.0]])[y]  # type: ignore\n",
    "    return x * t_late, one_hot\n",
    "\n",
    "\n",
    "# define a loss\n",
    "def loss(recording):\n",
    "    # first spike time\n",
    "    recording[0, 0]\n",
    "    # x, y = batch\n",
    "    # t_spike = jax.vmap(apply_fn, in_axes=(None, 0))(weights, x)\n",
    "    # return np.sum(jax.vmap(loss_fn, in_axes=(0, 0))(t_spike, y))\n",
    "    pass"
   ]
  },
  {
   "cell_type": "code",
   "execution_count": 163,
   "metadata": {},
   "outputs": [],
   "source": [
    "rng = jax.random.PRNGKey(42)\n",
    "rng, weight_rng = jax.random.split(rng)\n",
    "n_neurons = 100\n",
    "\n",
    "weights = jax.random.uniform(rng, (n_neurons, n_neurons))\n",
    "x, y = dataset(rng, 10, 100)"
   ]
  },
  {
   "cell_type": "code",
   "execution_count": null,
   "metadata": {},
   "outputs": [],
   "source": []
  }
 ],
 "metadata": {
  "kernelspec": {
   "display_name": "Python 3.10.0 64-bit ('3.10.0')",
   "language": "python",
   "name": "python3"
  },
  "language_info": {
   "codemirror_mode": {
    "name": "ipython",
    "version": 3
   },
   "file_extension": ".py",
   "mimetype": "text/x-python",
   "name": "python",
   "nbconvert_exporter": "python",
   "pygments_lexer": "ipython3",
   "version": "3.10.0"
  },
  "orig_nbformat": 4,
  "vscode": {
   "interpreter": {
    "hash": "56d96b8a86e145020d6ababe354d6afecb59aba273078a8fcdc758efbc4b784a"
   }
  }
 },
 "nbformat": 4,
 "nbformat_minor": 2
}
