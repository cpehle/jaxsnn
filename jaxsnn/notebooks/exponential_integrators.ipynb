{
 "cells": [
  {
   "cell_type": "code",
   "execution_count": 170,
   "metadata": {},
   "outputs": [
    {
     "name": "stdout",
     "output_type": "stream",
     "text": [
      "0.3.20\n"
     ]
    }
   ],
   "source": [
    "import jax\n",
    "import jax.numpy as np\n",
    "import matplotlib.pyplot as plt\n",
    "from functools import partial\n",
    "\n",
    "# Should be >=0.3.20 for `jax.debug` package\n",
    "print(jax.__version__)\n",
    "\n",
    "\n",
    "# def fori_loop(lower, upper, body_fun, init_val):\n",
    "#     val = init_val\n",
    "#     for i in range(lower, upper):\n",
    "#         val = body_fun(i, val)\n",
    "#     return val\n",
    "\n",
    "\n",
    "# def while_loop(cond_fun, body_fun, init_val):\n",
    "#     val = init_val\n",
    "#     while cond_fun(val):\n",
    "#         val = body_fun(val)\n",
    "#     return val\n",
    "\n",
    "from jax.lax import fori_loop, while_loop"
   ]
  },
  {
   "cell_type": "code",
   "execution_count": 171,
   "metadata": {},
   "outputs": [],
   "source": [
    "tau_syn = 1e-2\n",
    "tau_mem = 5e-3\n",
    "\n",
    "tau_mem_inv = 1.0 / tau_mem\n",
    "tau_syn_inv = 1.0 / tau_syn\n",
    "\n",
    "A = np.array([[-tau_mem_inv, tau_mem_inv], [0,-tau_syn_inv]])\n",
    "\n",
    "def f(A, x0, t):\n",
    "  return np.dot(jax.scipy.linalg.expm(A * t), x0)\n",
    "\n",
    "dynamics = partial(f, A)\n",
    "batched_dynamics = jax.vmap(dynamics, in_axes=(0, None))"
   ]
  },
  {
   "cell_type": "code",
   "execution_count": 172,
   "metadata": {},
   "outputs": [],
   "source": [
    "y0 = np.array([0.0, 1.0])\n",
    "xs = np.arange(0, 0.1, 1e-4)\n",
    "ys = jax.vmap(partial(dynamics, y0))(xs)"
   ]
  },
  {
   "cell_type": "code",
   "execution_count": 173,
   "metadata": {},
   "outputs": [
    {
     "data": {
      "text/plain": [
       "[<matplotlib.lines.Line2D at 0x2b2724af0>,\n",
       " <matplotlib.lines.Line2D at 0x2b2995720>]"
      ]
     },
     "execution_count": 173,
     "metadata": {},
     "output_type": "execute_result"
    },
    {
     "data": {
      "image/png": "[encoded data removed]",
      "text/plain": [
       "<Figure size 432x288 with 1 Axes>"
      ]
     },
     "metadata": {
      "needs_background": "light"
     },
     "output_type": "display_data"
    }
   ],
   "source": [
    "plt.xlabel('Time')\n",
    "plt.plot(xs, ys)"
   ]
  },
  {
   "cell_type": "markdown",
   "metadata": {},
   "source": [
    "In order to determine whether any jump had occured it is sufficient to focus on a given time interval $[t_k, t_{k+1}]$, we can then consider a jump condition $j$, for example one that is affine\n",
    "$$j(t) = P y(t) - b$$\n",
    "and do a root finding procedure on this interval."
   ]
  },
  {
   "cell_type": "code",
   "execution_count": 174,
   "metadata": {},
   "outputs": [],
   "source": [
    "# c.f.: https://github.com/google/jax/issues/8744\n",
    "def newton(f, y0, x0):\n",
    "  \"\"\"Newton's method for root-finding.\"\"\"\n",
    "  initial_state = (0, x0)\n",
    "\n",
    "  def cond(state):\n",
    "    it, x = state\n",
    "    return (it < 10)\n",
    "\n",
    "  def body(state):\n",
    "    it, x = state\n",
    "    fx, dfx = f(y0, x), jax.grad(f, argnums=1)(y0, x)\n",
    "    step = fx / dfx\n",
    "    new_state = it + 1, x - step\n",
    "    return new_state\n",
    "\n",
    "  res = jax.lax.while_loop(\n",
    "    cond,\n",
    "    body,\n",
    "    initial_state,\n",
    "  )[1]\n",
    "  return np.where(res > 0, res, np.nan)"
   ]
  },
  {
   "cell_type": "code",
   "execution_count": 175,
   "metadata": {},
   "outputs": [
    {
     "data": {
      "text/plain": [
       "<matplotlib.lines.Line2D at 0x2b4748cd0>"
      ]
     },
     "execution_count": 175,
     "metadata": {},
     "output_type": "execute_result"
    },
    {
     "data": {
      "image/png": "[encoded data removed]",
      "text/plain": [
       "<Figure size 432x288 with 1 Axes>"
      ]
     },
     "metadata": {
      "needs_background": "light"
     },
     "output_type": "display_data"
    }
   ],
   "source": [
    "y0 = np.array([0.0, 1.0])\n",
    "xs = np.arange(0, 0.05 ,1e-4)\n",
    "v_th = 0.3\n",
    "\n",
    "\n",
    "def jump_condition(dynamics, v_th, x0, t):\n",
    "  return dynamics(x0, t)[0] - v_th # this implements the P y(t) - b above\n",
    "\n",
    "\n",
    "jc = partial(jump_condition, dynamics, v_th)\n",
    "ys = jax.vmap(partial(dynamics, y0))(xs)[:, 0]\n",
    "\n",
    "solver = jax.jit(partial(newton, jc))\n",
    "\n",
    "spike_time = solver(y0, 1e-4)\n",
    "# %timeit solver(y0, 1e-4)\n",
    "\n",
    "plt.xlabel('Time')\n",
    "plt.plot(xs, ys)\n",
    "plt.axvline(spike_time, linestyle='-.')"
   ]
  },
  {
   "cell_type": "code",
   "execution_count": 176,
   "metadata": {},
   "outputs": [
    {
     "name": "stdout",
     "output_type": "stream",
     "text": [
      "[0.00203062 0.00137604        nan]\n"
     ]
    }
   ],
   "source": [
    "# do this for two neurons\n",
    "y0 = np.array([[0.0, 1.0], [0.1, 1.0], [0.0, 0.0]])\n",
    "batched_solver = jax.jit(jax.vmap(solver, in_axes=(0, None)))\n",
    "spike_times = batched_solver(y0, 1e-4)\n",
    "# %timeit batched_solver(y0, 1e-4)\n",
    "print(spike_times)"
   ]
  },
  {
   "cell_type": "code",
   "execution_count": 177,
   "metadata": {},
   "outputs": [
    {
     "data": {
      "text/plain": [
       "DeviceArray(nan, dtype=float32)"
      ]
     },
     "execution_count": 177,
     "metadata": {},
     "output_type": "execute_result"
    }
   ],
   "source": [
    "# nevative spike times return nan\n",
    "solver(np.array([0.0, 0.1]), 1e-4)"
   ]
  },
  {
   "cell_type": "code",
   "execution_count": 178,
   "metadata": {},
   "outputs": [],
   "source": [
    "def tr_equation(weights, x, spike_idx):\n",
    "  x = x.at[spike_idx, 0].set(0.0)\n",
    "  i_new = x[:, 1] + weights[:, spike_idx]\n",
    "  return np.stack((x[:, 0], i_new), axis=1)\n",
    "\n",
    "\n",
    "def step(dynamics, solver, tr_dynamics, weights, y, dt):\n",
    "  t_spike = solver(y, 1e-4)\n",
    "\n",
    "  # only integrate to next boundary\n",
    "  spike_idx = np.nanargmin(t_spike)\n",
    "  no_spike = spike_idx == -1\n",
    "  t_dyn = jax.lax.cond(no_spike, lambda: dt, lambda: t_spike[spike_idx])\n",
    "  y_minus = dynamics(y, t_dyn)\n",
    "\n",
    "  true_fun = lambda weights, y_minus, spike_idx: y_minus\n",
    "  false_fun = tr_dynamics\n",
    "  args = (weights, y_minus, spike_idx)\n",
    "  y_plus = jax.lax.cond(no_spike, true_fun, false_fun, *args)\n",
    "\n",
    "  return y_plus, t_dyn, spike_idx"
   ]
  },
  {
   "cell_type": "code",
   "execution_count": 182,
   "metadata": {},
   "outputs": [
    {
     "name": "stdout",
     "output_type": "stream",
     "text": [
      "36.3 µs ± 615 ns per loop (mean ± std. dev. of 7 runs, 10,000 loops each)\n"
     ]
    }
   ],
   "source": [
    "weights = np.array([[0.0, 1.0, 1.0], [1.0, 0.0, 1.0], [1.0, 1.0, 0.0]]) * 0.1  # type: ignore\n",
    "\n",
    "y = np.array([[0.2, 1.0], [0.1, 1.0], [0.0, 0.0]])\n",
    "\n",
    "step_fn = jax.jit(partial(step, batched_dynamics, batched_solver, tr_equation))\n",
    "# step_fn = partial(step, batched_dynamics, batched_solver, tr_equation)\n",
    "y_plus, dt, spike_idx = step_fn(weights, y, 0.1)\n",
    "%timeit step_fn(weights, y, 0.1)"
   ]
  },
  {
   "cell_type": "code",
   "execution_count": 183,
   "metadata": {},
   "outputs": [],
   "source": [
    "def forward_integration(\n",
    "      step_fn,\n",
    "      weights,\n",
    "      initial_state,       \n",
    "      t_max, \n",
    "    ):\n",
    "  def cond(state):\n",
    "    it, t, y, acc = state\n",
    "    return (t < t_max) & (it < 100)\n",
    "\n",
    "  def body(state):\n",
    "    it, t, y, acc = state  # t is current lower bound\n",
    "   \n",
    "    dt = t_max - t\n",
    "    y_plus, dt_dyn, spike_idx = step_fn(weights, y, dt)\n",
    "    \n",
    "    # update t\n",
    "    t = t + dt_dyn\n",
    "\n",
    "    # set voltage\n",
    "    acc = acc.at[it, 0].set(t)\n",
    "    acc = acc.at[it, 1].set(spike_idx)\n",
    "\n",
    "    new_state = (it+1, t, y_plus, acc)\n",
    "    return new_state\n",
    "\n",
    "  return while_loop(\n",
    "    cond,\n",
    "    body,\n",
    "    initial_state,\n",
    "  )"
   ]
  },
  {
   "cell_type": "code",
   "execution_count": 181,
   "metadata": {},
   "outputs": [
    {
     "name": "stdout",
     "output_type": "stream",
     "text": [
      "147 µs ± 417 ns per loop (mean ± std. dev. of 7 runs, 10,000 loops each)\n",
      "5 spikes: (4, 1, 0)\n"
     ]
    }
   ],
   "source": [
    "y = np.array([[0.0, 1.0], [0.0, 1.0], [0.0, 0.0]])\n",
    "t_max = 20 * tau_mem\n",
    "initial_state = (0, 0, y, np.zeros((100, 2)))\n",
    "\n",
    "# run it\n",
    "forward = jax.jit(partial(forward_integration, step_fn))\n",
    "(it, t, y, acc) = forward(weights, initial_state, t_max)\n",
    "\n",
    "%timeit forward(weights, initial_state, t_max)\n",
    "\n",
    "spikes = acc[(acc[:, 0] != 0.0) & (acc[:, 1] != -1.0)]\n",
    "print(f\"{len(spikes)} spikes: {len(spikes[spikes[:, 1] == 0.0]), len(spikes[spikes[:, 1] == 1.0]), len(spikes[spikes[:, 1] == 2.0])}\")"
   ]
  },
  {
   "cell_type": "code",
   "execution_count": 211,
   "metadata": {},
   "outputs": [
    {
     "name": "stdout",
     "output_type": "stream",
     "text": [
      "2.0\n"
     ]
    }
   ],
   "source": [
    "# how can we define loss?\n",
    "@jax.jit\n",
    "def loss_fn(x):\n",
    "    a = np.stack((x, np.arange(len(x))), axis=1)\n",
    "    min_ix = np.argmin(np.where(a[:, 1] == 1.0, a[:, 0], np.inf))  # type: ignore\n",
    "    return a[min_ix, 0]  # type: ignore\n",
    "\n",
    "x = np.array([1.0, 2.0, 3.0])\n",
    "value, grad = jax.value_and_grad(loss_fn)(x)\n",
    "print(value)"
   ]
  },
  {
   "cell_type": "code",
   "execution_count": 212,
   "metadata": {},
   "outputs": [
    {
     "ename": "ValueError",
     "evalue": "Reverse-mode differentiation does not work for lax.while_loop or lax.fori_loop. Try using lax.scan instead.",
     "output_type": "error",
     "traceback": [
      "\u001b[0;31m---------------------------------------------------------------------------\u001b[0m",
      "\u001b[0;31mJaxStackTraceBeforeTransformation\u001b[0m         Traceback (most recent call last)",
      "File \u001b[0;32m~/.pyenv/versions/3.10.0/lib/python3.10/runpy.py:191\u001b[0m, in \u001b[0;36m_run_module_as_main\u001b[0;34m(***failed resolving arguments***)\u001b[0m\n\u001b[1;32m    190\u001b[0m \u001b[39mexcept\u001b[39;00m _Error \u001b[39mas\u001b[39;00m exc:\n\u001b[0;32m--> 191\u001b[0m     msg \u001b[39m=\u001b[39m \u001b[39m\"\u001b[39m\u001b[39m%s\u001b[39;00m\u001b[39m: \u001b[39m\u001b[39m%s\u001b[39;00m\u001b[39m\"\u001b[39m \u001b[39m%\u001b[39m (sys\u001b[39m.\u001b[39mexecutable, exc)\n\u001b[1;32m    192\u001b[0m     sys\u001b[39m.\u001b[39mexit(msg)\n",
      "File \u001b[0;32m~/.pyenv/versions/3.10.0/lib/python3.10/runpy.py:75\u001b[0m, in \u001b[0;36m_run_code\u001b[0;34m(***failed resolving arguments***)\u001b[0m\n\u001b[1;32m     74\u001b[0m loader \u001b[39m=\u001b[39m mod_spec\u001b[39m.\u001b[39mloader\n\u001b[0;32m---> 75\u001b[0m fname \u001b[39m=\u001b[39m mod_spec\u001b[39m.\u001b[39morigin\n\u001b[1;32m     76\u001b[0m cached \u001b[39m=\u001b[39m mod_spec\u001b[39m.\u001b[39mcached\n",
      "File \u001b[0;32m~/.pyenv/versions/3.10.0/lib/python3.10/site-packages/ipykernel_launcher.py:12\u001b[0m, in \u001b[0;36m<module>\u001b[0;34m\u001b[0m\n\u001b[1;32m      9\u001b[0m \u001b[39mif\u001b[39;00m \u001b[39m__name__\u001b[39m \u001b[39m==\u001b[39m \u001b[39m\"\u001b[39m\u001b[39m__main__\u001b[39m\u001b[39m\"\u001b[39m:\n\u001b[1;32m     10\u001b[0m     \u001b[39m# Remove the CWD from sys.path while we load stuff.\u001b[39;00m\n\u001b[1;32m     11\u001b[0m     \u001b[39m# This is added back by InteractiveShellApp.init_path()\u001b[39;00m\n\u001b[0;32m---> 12\u001b[0m     \u001b[39mif\u001b[39;00m sys\u001b[39m.\u001b[39mpath[\u001b[39m0\u001b[39m] \u001b[39m==\u001b[39m \u001b[39m\"\u001b[39m\u001b[39m\"\u001b[39m:\n\u001b[1;32m     13\u001b[0m         \u001b[39mdel\u001b[39;00m sys\u001b[39m.\u001b[39mpath[\u001b[39m0\u001b[39m]\n",
      "File \u001b[0;32m~/.pyenv/versions/3.10.0/lib/python3.10/site-packages/traitlets/config/application.py:974\u001b[0m, in \u001b[0;36mApplication.launch_instance\u001b[0;34m(***failed resolving arguments***)\u001b[0m\n\u001b[1;32m    970\u001b[0m \u001b[39m\"\"\"Launch a global instance of this Application\u001b[39;00m\n\u001b[1;32m    971\u001b[0m \n\u001b[1;32m    972\u001b[0m \u001b[39mIf a global instance already exists, this reinitializes and starts it\u001b[39;00m\n\u001b[1;32m    973\u001b[0m \u001b[39m\"\"\"\u001b[39;00m\n\u001b[0;32m--> 974\u001b[0m app \u001b[39m=\u001b[39m \u001b[39mcls\u001b[39m\u001b[39m.\u001b[39minstance(\u001b[39m*\u001b[39m\u001b[39m*\u001b[39mkwargs)\n\u001b[1;32m    975\u001b[0m app\u001b[39m.\u001b[39minitialize(argv)\n",
      "File \u001b[0;32m~/.pyenv/versions/3.10.0/lib/python3.10/site-packages/ipykernel/kernelapp.py:702\u001b[0m, in \u001b[0;36mIPKernelApp.start\u001b[0;34m(***failed resolving arguments***)\u001b[0m\n\u001b[1;32m    701\u001b[0m \u001b[39mif\u001b[39;00m \u001b[39mself\u001b[39m\u001b[39m.\u001b[39mtrio_loop:\n\u001b[0;32m--> 702\u001b[0m     \u001b[39mfrom\u001b[39;00m \u001b[39mipykernel\u001b[39;00m\u001b[39m.\u001b[39;00m\u001b[39mtrio_runner\u001b[39;00m \u001b[39mimport\u001b[39;00m TrioRunner\n\u001b[1;32m    704\u001b[0m     tr \u001b[39m=\u001b[39m TrioRunner()\n",
      "File \u001b[0;32m~/.pyenv/versions/3.10.0/lib/python3.10/site-packages/tornado/platform/asyncio.py:195\u001b[0m, in \u001b[0;36mBaseAsyncIOLoop.start\u001b[0;34m(***failed resolving arguments***)\u001b[0m\n\u001b[1;32m    194\u001b[0m \u001b[39mexcept\u001b[39;00m (\u001b[39mRuntimeError\u001b[39;00m, \u001b[39mAssertionError\u001b[39;00m):\n\u001b[0;32m--> 195\u001b[0m     old_loop \u001b[39m=\u001b[39m \u001b[39mNone\u001b[39;00m  \u001b[39m# type: ignore\u001b[39;00m\n\u001b[1;32m    196\u001b[0m \u001b[39mtry\u001b[39;00m:\n",
      "File \u001b[0;32m~/.pyenv/versions/3.10.0/lib/python3.10/asyncio/base_events.py:589\u001b[0m, in \u001b[0;36mBaseEventLoop.run_forever\u001b[0;34m(***failed resolving arguments***)\u001b[0m\n\u001b[1;32m    587\u001b[0m \u001b[39mself\u001b[39m\u001b[39m.\u001b[39m_thread_id \u001b[39m=\u001b[39m threading\u001b[39m.\u001b[39mget_ident()\n\u001b[0;32m--> 589\u001b[0m old_agen_hooks \u001b[39m=\u001b[39m sys\u001b[39m.\u001b[39mget_asyncgen_hooks()\n\u001b[1;32m    590\u001b[0m sys\u001b[39m.\u001b[39mset_asyncgen_hooks(firstiter\u001b[39m=\u001b[39m\u001b[39mself\u001b[39m\u001b[39m.\u001b[39m_asyncgen_firstiter_hook,\n\u001b[1;32m    591\u001b[0m                        finalizer\u001b[39m=\u001b[39m\u001b[39mself\u001b[39m\u001b[39m.\u001b[39m_asyncgen_finalizer_hook)\n",
      "File \u001b[0;32m~/.pyenv/versions/3.10.0/lib/python3.10/asyncio/base_events.py:1845\u001b[0m, in \u001b[0;36mBaseEventLoop._run_once\u001b[0;34m(***failed resolving arguments***)\u001b[0m\n\u001b[1;32m   1843\u001b[0m     timeout \u001b[39m=\u001b[39m \u001b[39mmin\u001b[39m(\u001b[39mmax\u001b[39m(\u001b[39m0\u001b[39m, when \u001b[39m-\u001b[39m \u001b[39mself\u001b[39m\u001b[39m.\u001b[39mtime()), MAXIMUM_SELECT_TIMEOUT)\n\u001b[0;32m-> 1845\u001b[0m event_list \u001b[39m=\u001b[39m \u001b[39mself\u001b[39m\u001b[39m.\u001b[39m_selector\u001b[39m.\u001b[39mselect(timeout)\n\u001b[1;32m   1846\u001b[0m \u001b[39mself\u001b[39m\u001b[39m.\u001b[39m_process_events(event_list)\n",
      "File \u001b[0;32m~/.pyenv/versions/3.10.0/lib/python3.10/asyncio/events.py:80\u001b[0m, in \u001b[0;36mHandle._run\u001b[0;34m(***failed resolving arguments***)\u001b[0m\n\u001b[1;32m     79\u001b[0m \u001b[39mtry\u001b[39;00m:\n\u001b[0;32m---> 80\u001b[0m     \u001b[39mself\u001b[39m\u001b[39m.\u001b[39m_context\u001b[39m.\u001b[39mrun(\u001b[39mself\u001b[39m\u001b[39m.\u001b[39m_callback, \u001b[39m*\u001b[39m\u001b[39mself\u001b[39m\u001b[39m.\u001b[39m_args)\n\u001b[1;32m     81\u001b[0m \u001b[39mexcept\u001b[39;00m (\u001b[39mSystemExit\u001b[39;00m, \u001b[39mKeyboardInterrupt\u001b[39;00m):\n",
      "File \u001b[0;32m~/.pyenv/versions/3.10.0/lib/python3.10/site-packages/ipykernel/kernelbase.py:510\u001b[0m, in \u001b[0;36mKernel.dispatch_queue\u001b[0;34m(***failed resolving arguments***)\u001b[0m\n\u001b[1;32m    509\u001b[0m \u001b[39mtry\u001b[39;00m:\n\u001b[0;32m--> 510\u001b[0m     \u001b[39mawait\u001b[39;00m \u001b[39mself\u001b[39m\u001b[39m.\u001b[39mprocess_one()\n\u001b[1;32m    511\u001b[0m \u001b[39mexcept\u001b[39;00m \u001b[39mException\u001b[39;00m:\n",
      "File \u001b[0;32m~/.pyenv/versions/3.10.0/lib/python3.10/site-packages/ipykernel/kernelbase.py:496\u001b[0m, in \u001b[0;36mKernel.process_one\u001b[0;34m(***failed resolving arguments***)\u001b[0m\n\u001b[1;32m    495\u001b[0m \u001b[39mtry\u001b[39;00m:\n\u001b[0;32m--> 496\u001b[0m     t, dispatch, args \u001b[39m=\u001b[39m \u001b[39mself\u001b[39m\u001b[39m.\u001b[39mmsg_queue\u001b[39m.\u001b[39mget_nowait()\n\u001b[1;32m    497\u001b[0m \u001b[39mexcept\u001b[39;00m (asyncio\u001b[39m.\u001b[39mQueueEmpty, QueueEmpty):\n",
      "File \u001b[0;32m~/.pyenv/versions/3.10.0/lib/python3.10/site-packages/ipykernel/kernelbase.py:383\u001b[0m, in \u001b[0;36mKernel.dispatch_shell\u001b[0;34m(***failed resolving arguments***)\u001b[0m\n\u001b[1;32m    382\u001b[0m     \u001b[39mself\u001b[39m\u001b[39m.\u001b[39mshell_stream\u001b[39m.\u001b[39mflush(zmq\u001b[39m.\u001b[39mPOLLOUT)\n\u001b[0;32m--> 383\u001b[0m     \u001b[39mreturn\u001b[39;00m\n\u001b[1;32m    385\u001b[0m \u001b[39m# Print some info about this message and leave a '--->' marker, so it's\u001b[39;00m\n\u001b[1;32m    386\u001b[0m \u001b[39m# easier to trace visually the message chain when debugging.  Each\u001b[39;00m\n\u001b[1;32m    387\u001b[0m \u001b[39m# handler prints its message at the end.\u001b[39;00m\n",
      "File \u001b[0;32m~/.pyenv/versions/3.10.0/lib/python3.10/site-packages/ipykernel/kernelbase.py:701\u001b[0m, in \u001b[0;36mKernel.execute_request\u001b[0;34m(***failed resolving arguments***)\u001b[0m\n\u001b[1;32m    699\u001b[0m stop_on_error \u001b[39m=\u001b[39m content\u001b[39m.\u001b[39mget(\u001b[39m\"\u001b[39m\u001b[39mstop_on_error\u001b[39m\u001b[39m\"\u001b[39m, \u001b[39mTrue\u001b[39;00m)\n\u001b[0;32m--> 701\u001b[0m metadata \u001b[39m=\u001b[39m \u001b[39mself\u001b[39m\u001b[39m.\u001b[39minit_metadata(parent)\n\u001b[1;32m    703\u001b[0m \u001b[39m# Re-broadcast our input for the benefit of listening clients, and\u001b[39;00m\n\u001b[1;32m    704\u001b[0m \u001b[39m# start computing output\u001b[39;00m\n",
      "File \u001b[0;32m~/.pyenv/versions/3.10.0/lib/python3.10/site-packages/ipykernel/ipkernel.py:352\u001b[0m, in \u001b[0;36mIPythonKernel.do_execute\u001b[0;34m(***failed resolving arguments***)\u001b[0m\n\u001b[1;32m    350\u001b[0m \u001b[39mif\u001b[39;00m with_cell_id:\n\u001b[1;32m    351\u001b[0m     coro \u001b[39m=\u001b[39m run_cell(\n\u001b[0;32m--> 352\u001b[0m         code,\n\u001b[1;32m    353\u001b[0m         store_history\u001b[39m=\u001b[39mstore_history,\n\u001b[1;32m    354\u001b[0m         silent\u001b[39m=\u001b[39msilent,\n\u001b[1;32m    355\u001b[0m         transformed_cell\u001b[39m=\u001b[39mtransformed_cell,\n\u001b[1;32m    356\u001b[0m         preprocessing_exc_tuple\u001b[39m=\u001b[39mpreprocessing_exc_tuple,\n\u001b[1;32m    357\u001b[0m         cell_id\u001b[39m=\u001b[39mcell_id,\n\u001b[1;32m    358\u001b[0m     )\n\u001b[1;32m    359\u001b[0m \u001b[39melse\u001b[39;00m:\n",
      "File \u001b[0;32m~/.pyenv/versions/3.10.0/lib/python3.10/site-packages/ipykernel/zmqshell.py:528\u001b[0m, in \u001b[0;36mZMQInteractiveShell.run_cell\u001b[0;34m(***failed resolving arguments***)\u001b[0m\n\u001b[1;32m    527\u001b[0m \u001b[39mself\u001b[39m\u001b[39m.\u001b[39m_last_traceback \u001b[39m=\u001b[39m \u001b[39mNone\u001b[39;00m\n\u001b[0;32m--> 528\u001b[0m \u001b[39mreturn\u001b[39;00m \u001b[39msuper\u001b[39m()\u001b[39m.\u001b[39mrun_cell(\u001b[39m*\u001b[39margs, \u001b[39m*\u001b[39m\u001b[39m*\u001b[39mkwargs)\n",
      "File \u001b[0;32m~/.pyenv/versions/3.10.0/lib/python3.10/site-packages/IPython/core/interactiveshell.py:2882\u001b[0m, in \u001b[0;36mInteractiveShell.run_cell\u001b[0;34m(***failed resolving arguments***)\u001b[0m\n\u001b[1;32m   2880\u001b[0m \u001b[39mtry\u001b[39;00m:\n\u001b[1;32m   2881\u001b[0m     result \u001b[39m=\u001b[39m \u001b[39mself\u001b[39m\u001b[39m.\u001b[39m_run_cell(\n\u001b[0;32m-> 2882\u001b[0m         raw_cell, store_history, silent, shell_futures, cell_id\n\u001b[1;32m   2883\u001b[0m     )\n\u001b[1;32m   2884\u001b[0m \u001b[39mfinally\u001b[39;00m:\n",
      "File \u001b[0;32m~/.pyenv/versions/3.10.0/lib/python3.10/site-packages/IPython/core/interactiveshell.py:2911\u001b[0m, in \u001b[0;36mInteractiveShell._run_cell\u001b[0;34m(***failed resolving arguments***)\u001b[0m\n\u001b[1;32m   2909\u001b[0m \u001b[39massert\u001b[39;00m transformed_cell \u001b[39mis\u001b[39;00m \u001b[39mnot\u001b[39;00m \u001b[39mNone\u001b[39;00m\n\u001b[1;32m   2910\u001b[0m coro \u001b[39m=\u001b[39m \u001b[39mself\u001b[39m\u001b[39m.\u001b[39mrun_cell_async(\n\u001b[0;32m-> 2911\u001b[0m     raw_cell,\n\u001b[1;32m   2912\u001b[0m     store_history\u001b[39m=\u001b[39mstore_history,\n\u001b[1;32m   2913\u001b[0m     silent\u001b[39m=\u001b[39msilent,\n\u001b[1;32m   2914\u001b[0m     shell_futures\u001b[39m=\u001b[39mshell_futures,\n\u001b[1;32m   2915\u001b[0m     transformed_cell\u001b[39m=\u001b[39mtransformed_cell,\n\u001b[1;32m   2916\u001b[0m     preprocessing_exc_tuple\u001b[39m=\u001b[39mpreprocessing_exc_tuple,\n\u001b[1;32m   2917\u001b[0m     cell_id\u001b[39m=\u001b[39mcell_id,\n\u001b[1;32m   2918\u001b[0m )\n\u001b[1;32m   2920\u001b[0m \u001b[39m# run_cell_async is async, but may not actually need an eventloop.\u001b[39;00m\n\u001b[1;32m   2921\u001b[0m \u001b[39m# when this is the case, we want to run it using the pseudo_sync_runner\u001b[39;00m\n\u001b[1;32m   2922\u001b[0m \u001b[39m# so that code can invoke eventloops (for example via the %run , and\u001b[39;00m\n\u001b[1;32m   2923\u001b[0m \u001b[39m# `%paste` magic.\u001b[39;00m\n",
      "File \u001b[0;32m~/.pyenv/versions/3.10.0/lib/python3.10/site-packages/IPython/core/async_helpers.py:129\u001b[0m, in \u001b[0;36m_pseudo_sync_runner\u001b[0;34m(***failed resolving arguments***)\u001b[0m\n\u001b[1;32m    128\u001b[0m \u001b[39mtry\u001b[39;00m:\n\u001b[0;32m--> 129\u001b[0m     coro\u001b[39m.\u001b[39msend(\u001b[39mNone\u001b[39;00m)\n\u001b[1;32m    130\u001b[0m \u001b[39mexcept\u001b[39;00m \u001b[39mStopIteration\u001b[39;00m \u001b[39mas\u001b[39;00m exc:\n",
      "File \u001b[0;32m~/.pyenv/versions/3.10.0/lib/python3.10/site-packages/IPython/core/interactiveshell.py:3109\u001b[0m, in \u001b[0;36mInteractiveShell.run_cell_async\u001b[0;34m(***failed resolving arguments***)\u001b[0m\n\u001b[1;32m   3108\u001b[0m     code_ast \u001b[39m=\u001b[39m compiler\u001b[39m.\u001b[39mast_parse(cell, filename\u001b[39m=\u001b[39mcell_name)\n\u001b[0;32m-> 3109\u001b[0m \u001b[39mexcept\u001b[39;00m \u001b[39mself\u001b[39m\u001b[39m.\u001b[39mcustom_exceptions \u001b[39mas\u001b[39;00m e:\n\u001b[1;32m   3110\u001b[0m     etype, value, tb \u001b[39m=\u001b[39m sys\u001b[39m.\u001b[39mexc_info()\n",
      "File \u001b[0;32m~/.pyenv/versions/3.10.0/lib/python3.10/site-packages/IPython/core/interactiveshell.py:3306\u001b[0m, in \u001b[0;36mInteractiveShell.run_ast_nodes\u001b[0;34m(***failed resolving arguments***)\u001b[0m\n\u001b[1;32m   3305\u001b[0m     to_run_exec, to_run_interactive \u001b[39m=\u001b[39m nodelist[:\u001b[39m-\u001b[39m\u001b[39m1\u001b[39m], nodelist[\u001b[39m-\u001b[39m\u001b[39m1\u001b[39m:]\n\u001b[0;32m-> 3306\u001b[0m \u001b[39melif\u001b[39;00m interactivity \u001b[39m==\u001b[39m \u001b[39m'\u001b[39m\u001b[39mall\u001b[39m\u001b[39m'\u001b[39m:\n\u001b[1;32m   3307\u001b[0m     to_run_exec, to_run_interactive \u001b[39m=\u001b[39m [], nodelist\n",
      "File \u001b[0;32m~/.pyenv/versions/3.10.0/lib/python3.10/site-packages/IPython/core/interactiveshell.py:3395\u001b[0m, in \u001b[0;36mInteractiveShell.run_code\u001b[0;34m(***failed resolving arguments***)\u001b[0m\n\u001b[1;32m   3394\u001b[0m \u001b[39mtry\u001b[39;00m:\n\u001b[0;32m-> 3395\u001b[0m     \u001b[39mif\u001b[39;00m async_:\n\u001b[1;32m   3396\u001b[0m         \u001b[39mawait\u001b[39;00m \u001b[39meval\u001b[39m(code_obj, \u001b[39mself\u001b[39m\u001b[39m.\u001b[39muser_global_ns, \u001b[39mself\u001b[39m\u001b[39m.\u001b[39muser_ns)\n",
      "\u001b[1;32m/Users/moritzalthaus/visions/jax-snn/jaxsnn/notebooks/exponential_integrators.ipynb Cell 15\u001b[0m in \u001b[0;36m<cell line: 34>\u001b[0;34m()\u001b[0m\n\u001b[1;32m     <a href='vscode-notebook-cell:/Users/moritzalthaus/visions/jax-snn/jaxsnn/notebooks/exponential_integrators.ipynb#X35sZmlsZQ%3D%3D?line=32'>33</a>\u001b[0m \u001b[39minput\u001b[39m \u001b[39m=\u001b[39m np\u001b[39m.\u001b[39mrepeat(y[\u001b[39mNone\u001b[39;00m, :, :], \u001b[39m10\u001b[39m, axis\u001b[39m=\u001b[39m\u001b[39m0\u001b[39m)  \u001b[39m# type: ignore\u001b[39;00m\n\u001b[0;32m---> <a href='vscode-notebook-cell:/Users/moritzalthaus/visions/jax-snn/jaxsnn/notebooks/exponential_integrators.ipynb#X35sZmlsZQ%3D%3D?line=33'>34</a>\u001b[0m weights, loss_value \u001b[39m=\u001b[39m jax\u001b[39m.\u001b[39mlax\u001b[39m.\u001b[39mscan(update, weights, \u001b[39minput\u001b[39m)\n",
      "\u001b[1;32m/Users/moritzalthaus/visions/jax-snn/jaxsnn/notebooks/exponential_integrators.ipynb Cell 15\u001b[0m in \u001b[0;36mupdate\u001b[0;34m(***failed resolving arguments***)\u001b[0m\n\u001b[1;32m     <a href='vscode-notebook-cell:/Users/moritzalthaus/visions/jax-snn/jaxsnn/notebooks/exponential_integrators.ipynb#X35sZmlsZQ%3D%3D?line=21'>22</a>\u001b[0m \u001b[39mdef\u001b[39;00m \u001b[39mupdate\u001b[39m(weights, \u001b[39minput\u001b[39m):\n\u001b[0;32m---> <a href='vscode-notebook-cell:/Users/moritzalthaus/visions/jax-snn/jaxsnn/notebooks/exponential_integrators.ipynb#X35sZmlsZQ%3D%3D?line=22'>23</a>\u001b[0m   value, grad \u001b[39m=\u001b[39m jax\u001b[39m.\u001b[39mvalue_and_grad(loss)(weights, \u001b[39minput\u001b[39m)  \u001b[39m# type: ignore\u001b[39;00m\n\u001b[1;32m     <a href='vscode-notebook-cell:/Users/moritzalthaus/visions/jax-snn/jaxsnn/notebooks/exponential_integrators.ipynb#X35sZmlsZQ%3D%3D?line=23'>24</a>\u001b[0m   weights \u001b[39m=\u001b[39m jax\u001b[39m.\u001b[39mtree_map(\u001b[39mlambda\u001b[39;00m f, df: f \u001b[39m-\u001b[39m \u001b[39m0.1\u001b[39m \u001b[39m*\u001b[39m df, weights, grad)\n",
      "\u001b[1;32m/Users/moritzalthaus/visions/jax-snn/jaxsnn/notebooks/exponential_integrators.ipynb Cell 15\u001b[0m in \u001b[0;36mloss\u001b[0;34m(***failed resolving arguments***)\u001b[0m\n\u001b[1;32m     <a href='vscode-notebook-cell:/Users/moritzalthaus/visions/jax-snn/jaxsnn/notebooks/exponential_integrators.ipynb#X35sZmlsZQ%3D%3D?line=10'>11</a>\u001b[0m t_max \u001b[39m=\u001b[39m \u001b[39m100\u001b[39m \u001b[39m*\u001b[39m tau_mem\n\u001b[0;32m---> <a href='vscode-notebook-cell:/Users/moritzalthaus/visions/jax-snn/jaxsnn/notebooks/exponential_integrators.ipynb#X35sZmlsZQ%3D%3D?line=12'>13</a>\u001b[0m initial_state \u001b[39m=\u001b[39m (\u001b[39m0\u001b[39m, \u001b[39m0\u001b[39m, \u001b[39minput\u001b[39m, np\u001b[39m.\u001b[39mzeros((\u001b[39m100\u001b[39m, \u001b[39m2\u001b[39m)))\n\u001b[1;32m     <a href='vscode-notebook-cell:/Users/moritzalthaus/visions/jax-snn/jaxsnn/notebooks/exponential_integrators.ipynb#X35sZmlsZQ%3D%3D?line=14'>15</a>\u001b[0m (it, t, \u001b[39minput\u001b[39m, acc) \u001b[39m=\u001b[39m forward(weights, initial_state, t_max)\n",
      "\u001b[1;32m/Users/moritzalthaus/visions/jax-snn/jaxsnn/notebooks/exponential_integrators.ipynb Cell 15\u001b[0m in \u001b[0;36mforward_integration\u001b[0;34m(***failed resolving arguments***)\u001b[0m\n\u001b[1;32m      <a href='vscode-notebook-cell:/Users/moritzalthaus/visions/jax-snn/jaxsnn/notebooks/exponential_integrators.ipynb#X35sZmlsZQ%3D%3D?line=8'>9</a>\u001b[0m   \u001b[39mreturn\u001b[39;00m (t \u001b[39m<\u001b[39m t_max) \u001b[39m&\u001b[39m (it \u001b[39m<\u001b[39m \u001b[39m100\u001b[39m)\n\u001b[0;32m---> <a href='vscode-notebook-cell:/Users/moritzalthaus/visions/jax-snn/jaxsnn/notebooks/exponential_integrators.ipynb#X35sZmlsZQ%3D%3D?line=10'>11</a>\u001b[0m \u001b[39mdef\u001b[39;00m \u001b[39mbody\u001b[39m(state):\n\u001b[1;32m     <a href='vscode-notebook-cell:/Users/moritzalthaus/visions/jax-snn/jaxsnn/notebooks/exponential_integrators.ipynb#X35sZmlsZQ%3D%3D?line=11'>12</a>\u001b[0m   it, t, y, acc \u001b[39m=\u001b[39m state  \u001b[39m# t is current lower bound\u001b[39;00m\n",
      "\u001b[0;31mJaxStackTraceBeforeTransformation\u001b[0m: ValueError: Reverse-mode differentiation does not work for lax.while_loop or lax.fori_loop. Try using lax.scan instead.\n\nThe preceding stack trace is the source of the JAX operation that, once transformed by JAX, triggered the following exception.\n\n--------------------",
      "\nThe above exception was the direct cause of the following exception:\n",
      "\u001b[0;31mValueError\u001b[0m                                Traceback (most recent call last)",
      "\u001b[1;32m/Users/moritzalthaus/visions/jax-snn/jaxsnn/notebooks/exponential_integrators.ipynb Cell 15\u001b[0m in \u001b[0;36m<cell line: 34>\u001b[0;34m()\u001b[0m\n\u001b[1;32m     <a href='vscode-notebook-cell:/Users/moritzalthaus/visions/jax-snn/jaxsnn/notebooks/exponential_integrators.ipynb#X35sZmlsZQ%3D%3D?line=31'>32</a>\u001b[0m y \u001b[39m=\u001b[39m np\u001b[39m.\u001b[39marray([[\u001b[39m0.0\u001b[39m, \u001b[39m1.0\u001b[39m], [\u001b[39m0.0\u001b[39m, \u001b[39m1.0\u001b[39m], [\u001b[39m0.0\u001b[39m, \u001b[39m0.0\u001b[39m]])\n\u001b[1;32m     <a href='vscode-notebook-cell:/Users/moritzalthaus/visions/jax-snn/jaxsnn/notebooks/exponential_integrators.ipynb#X35sZmlsZQ%3D%3D?line=32'>33</a>\u001b[0m \u001b[39minput\u001b[39m \u001b[39m=\u001b[39m np\u001b[39m.\u001b[39mrepeat(y[\u001b[39mNone\u001b[39;00m, :, :], \u001b[39m10\u001b[39m, axis\u001b[39m=\u001b[39m\u001b[39m0\u001b[39m)  \u001b[39m# type: ignore\u001b[39;00m\n\u001b[0;32m---> <a href='vscode-notebook-cell:/Users/moritzalthaus/visions/jax-snn/jaxsnn/notebooks/exponential_integrators.ipynb#X35sZmlsZQ%3D%3D?line=33'>34</a>\u001b[0m weights, loss_value \u001b[39m=\u001b[39m jax\u001b[39m.\u001b[39;49mlax\u001b[39m.\u001b[39;49mscan(update, weights, \u001b[39minput\u001b[39;49m)\n",
      "    \u001b[0;31m[... skipping hidden 9 frame]\u001b[0m\n",
      "\u001b[1;32m/Users/moritzalthaus/visions/jax-snn/jaxsnn/notebooks/exponential_integrators.ipynb Cell 15\u001b[0m in \u001b[0;36mupdate\u001b[0;34m(weights, input)\u001b[0m\n\u001b[1;32m     <a href='vscode-notebook-cell:/Users/moritzalthaus/visions/jax-snn/jaxsnn/notebooks/exponential_integrators.ipynb#X35sZmlsZQ%3D%3D?line=21'>22</a>\u001b[0m \u001b[39mdef\u001b[39;00m \u001b[39mupdate\u001b[39m(weights, \u001b[39minput\u001b[39m):\n\u001b[0;32m---> <a href='vscode-notebook-cell:/Users/moritzalthaus/visions/jax-snn/jaxsnn/notebooks/exponential_integrators.ipynb#X35sZmlsZQ%3D%3D?line=22'>23</a>\u001b[0m   value, grad \u001b[39m=\u001b[39m jax\u001b[39m.\u001b[39;49mvalue_and_grad(loss)(weights, \u001b[39minput\u001b[39;49m)  \u001b[39m# type: ignore\u001b[39;00m\n\u001b[1;32m     <a href='vscode-notebook-cell:/Users/moritzalthaus/visions/jax-snn/jaxsnn/notebooks/exponential_integrators.ipynb#X35sZmlsZQ%3D%3D?line=23'>24</a>\u001b[0m   weights \u001b[39m=\u001b[39m jax\u001b[39m.\u001b[39mtree_map(\u001b[39mlambda\u001b[39;00m f, df: f \u001b[39m-\u001b[39m \u001b[39m0.1\u001b[39m \u001b[39m*\u001b[39m df, weights, grad)\n\u001b[1;32m     <a href='vscode-notebook-cell:/Users/moritzalthaus/visions/jax-snn/jaxsnn/notebooks/exponential_integrators.ipynb#X35sZmlsZQ%3D%3D?line=24'>25</a>\u001b[0m   \u001b[39mreturn\u001b[39;00m weights, value\n",
      "    \u001b[0;31m[... skipping hidden 14 frame]\u001b[0m\n",
      "File \u001b[0;32m~/.pyenv/versions/3.10.0/lib/python3.10/site-packages/jax/_src/lax/control_flow/loops.py:1404\u001b[0m, in \u001b[0;36m_while_transpose_error\u001b[0;34m(*_, **kwargs)\u001b[0m\n\u001b[1;32m   1403\u001b[0m \u001b[39mdef\u001b[39;00m \u001b[39m_while_transpose_error\u001b[39m(\u001b[39m*\u001b[39m_, \u001b[39m*\u001b[39m\u001b[39m*\u001b[39mkwargs):\n\u001b[0;32m-> 1404\u001b[0m   \u001b[39mraise\u001b[39;00m \u001b[39mValueError\u001b[39;00m(\u001b[39m\"\u001b[39m\u001b[39mReverse-mode differentiation does not work for \u001b[39m\u001b[39m\"\u001b[39m\n\u001b[1;32m   1405\u001b[0m                    \u001b[39m\"\u001b[39m\u001b[39mlax.while_loop or lax.fori_loop. \u001b[39m\u001b[39m\"\u001b[39m\n\u001b[1;32m   1406\u001b[0m                    \u001b[39m\"\u001b[39m\u001b[39mTry using lax.scan instead.\u001b[39m\u001b[39m\"\u001b[39m)\n",
      "\u001b[0;31mValueError\u001b[0m: Reverse-mode differentiation does not work for lax.while_loop or lax.fori_loop. Try using lax.scan instead."
     ]
    }
   ],
   "source": [
    "# let's see if we can train this\n",
    "\n",
    "def init_weights(rng, n_neurons):\n",
    "  weights = jax.random.uniform(rng, (n_neurons, n_neurons))\n",
    "  weights = weights.at[np.diag_indices_from(weights)].set(0.0)\n",
    "  return weights\n",
    "\n",
    "\n",
    "def loss(weights, input):\n",
    "  target = tau_mem\n",
    "  t_max = 100 * tau_mem\n",
    "\n",
    "  initial_state = (0, 0, input, np.zeros((100, 2)))\n",
    "\n",
    "  (it, t, input, acc) = forward(weights, initial_state, t_max)\n",
    "\n",
    "  min_ix = np.argmin(np.where(acc[:, 1] == 1.0, acc[:, 0], np.inf))  # type: ignore\n",
    "  min_spike_time = acc[min_ix, 0]  # type: ignore\n",
    "  return (min_spike_time - target) ** 2\n",
    "\n",
    "\n",
    "def update(weights, input):\n",
    "  value, grad = jax.value_and_grad(loss)(weights, input)  # type: ignore\n",
    "  weights = jax.tree_map(lambda f, df: f - 0.1 * df, weights, grad)\n",
    "  return weights, value\n",
    "\n",
    "\n",
    "n_neurons = 3\n",
    "rng = jax.random.PRNGKey(42)\n",
    "weights = init_weights(rng, n_neurons)\n",
    "\n",
    "y = np.array([[0.0, 1.0], [0.0, 1.0], [0.0, 0.0]])\n",
    "input = np.repeat(y[None, :, :], 10, axis=0)  # type: ignore\n",
    "weights, loss_value = jax.lax.scan(update, weights, input)\n"
   ]
  },
  {
   "cell_type": "code",
   "execution_count": null,
   "metadata": {},
   "outputs": [],
   "source": [
    "def integrate_until(dynamics, jump_condition, recording, tr_equation, x, t, dt):\n",
    "  t_until = t + dt\n",
    "  while t < t_until:\n",
    "    t_step = np.minimum(dt, t_until-t)\n",
    "    x, t, spike_idx = integrate_to_next_jump_or_dt(dynamics, jump_condition, tr_equation, x, t, dt)\n",
    "    recording = recording.at[spike_idx, 0].set(t)\n",
    "  return x, t, recording"
   ]
  },
  {
   "cell_type": "code",
   "execution_count": 71,
   "metadata": {},
   "outputs": [],
   "source": [
    "n_neurons = 2\n",
    "v_th = 0.5\n",
    "t = 0.0\n",
    "dt = 1.0\n",
    "\n",
    "\n",
    "def jump_condition(dynamics, v_th, x, t):\n",
    "  return dynamics(x, t)[0] - v_th # this implements the P y(t) - b above\n",
    "\n",
    "jc = partial(jump_condition, f, v_th)\n",
    "\n",
    "def init_state(n_neurons):\n",
    "  return np.zeros((n_neurons, 2))\n",
    "\n",
    "batched_dynmaics = jax.vmap(dynamics, in_axes=(0, None))\n",
    "\n",
    "rng = jax.random.PRNGKey(42)\n",
    "rng, tr_key = jax.random.split(rng)\n",
    "\n",
    "def init_weights(rng, n_neurons):\n",
    "  return jax.random.normal(tr_key, (n_neurons, n_neurons)) * 0.2\n",
    "\n",
    "weights = init_weights(tr_key, n_neurons)\n",
    "\n",
    "\n",
    "def apply_fun(weights, input_spikes, t_end = 1):\n",
    "  tr_dynamics = partial(tr_equation, weights)\n",
    "  recording = np.zeros((n_neurons, 10, 2))\n",
    "  x = init_state(n_neurons)\n",
    "  t = 0\n",
    "  for i in np.argsort(input_spikes):\n",
    "    spike_time = input_spikes[i]\n",
    "    assert spike_time - t > 0\n",
    "    x, t, recording = integrate_until(batched_dynmaics, jump_condition, tr_dynamics, recording, x, t, spike_time - t)\n",
    "    x = tr_dynamics(x, np.array([i]))\n",
    "\n",
    "  integrate_until(batched_dynmaics, recording, v_th, x, weights, t, t_end - t)  \n",
    "  return x, recording"
   ]
  },
  {
   "cell_type": "code",
   "execution_count": 72,
   "metadata": {},
   "outputs": [],
   "source": [
    "# create a circular dataset\n",
    "def dataset(key, batch_size, n_samples):\n",
    "    r = 1\n",
    "    t_late = 3 * tau_syn\n",
    "    x = jax.random.uniform(key, (n_samples, batch_size, 2))\n",
    "    y = np.where(x[:,:,0] - x[:,:,1] > 1, 1, 0)\n",
    "    one_hot = np.array([[0.0, tau_mem], [tau_mem, 0.0]])[y]  # type: ignore\n",
    "    return x * t_late, one_hot\n",
    "\n",
    "\n",
    "# define a loss\n",
    "def loss(recording):\n",
    "    # first spike time\n",
    "    recording[0, 0]\n",
    "    # x, y = batch\n",
    "    # t_spike = jax.vmap(apply_fn, in_axes=(None, 0))(weights, x)\n",
    "    # return np.sum(jax.vmap(loss_fn, in_axes=(0, 0))(t_spike, y))\n",
    "    pass"
   ]
  },
  {
   "cell_type": "code",
   "execution_count": 73,
   "metadata": {},
   "outputs": [
    {
     "ename": "TypeError",
     "evalue": "Argument '<function jump_condition at 0x29a2fa170>' of type <class 'function'> is not a valid JAX type.",
     "output_type": "error",
     "traceback": [
      "\u001b[0;31m---------------------------------------------------------------------------\u001b[0m",
      "\u001b[0;31mTypeError\u001b[0m                                 Traceback (most recent call last)",
      "\u001b[1;32m/Users/moritzalthaus/visions/jax-snn/jaxsnn/notebooks/exponential_integrators.ipynb Cell 12\u001b[0m in \u001b[0;36m<cell line: 8>\u001b[0;34m()\u001b[0m\n\u001b[1;32m      <a href='vscode-notebook-cell:/Users/moritzalthaus/visions/jax-snn/jaxsnn/notebooks/exponential_integrators.ipynb#X12sZmlsZQ%3D%3D?line=4'>5</a>\u001b[0m weights \u001b[39m=\u001b[39m jax\u001b[39m.\u001b[39mrandom\u001b[39m.\u001b[39muniform(rng, (n_neurons, n_neurons))\n\u001b[1;32m      <a href='vscode-notebook-cell:/Users/moritzalthaus/visions/jax-snn/jaxsnn/notebooks/exponential_integrators.ipynb#X12sZmlsZQ%3D%3D?line=5'>6</a>\u001b[0m x, y \u001b[39m=\u001b[39m dataset(rng, \u001b[39m10\u001b[39m, \u001b[39m100\u001b[39m)\n\u001b[0;32m----> <a href='vscode-notebook-cell:/Users/moritzalthaus/visions/jax-snn/jaxsnn/notebooks/exponential_integrators.ipynb#X12sZmlsZQ%3D%3D?line=7'>8</a>\u001b[0m state, recording \u001b[39m=\u001b[39m apply_fun(weights, x[\u001b[39m0\u001b[39;49m][\u001b[39m0\u001b[39;49m])\n\u001b[1;32m      <a href='vscode-notebook-cell:/Users/moritzalthaus/visions/jax-snn/jaxsnn/notebooks/exponential_integrators.ipynb#X12sZmlsZQ%3D%3D?line=8'>9</a>\u001b[0m spikes \u001b[39m=\u001b[39m np\u001b[39m.\u001b[39mcount_nonzero(recording[:, \u001b[39m0\u001b[39m])\n\u001b[1;32m     <a href='vscode-notebook-cell:/Users/moritzalthaus/visions/jax-snn/jaxsnn/notebooks/exponential_integrators.ipynb#X12sZmlsZQ%3D%3D?line=9'>10</a>\u001b[0m \u001b[39mprint\u001b[39m(\u001b[39mf\u001b[39m\u001b[39m\"\u001b[39m\u001b[39m{\u001b[39;00mspikes\u001b[39m}\u001b[39;00m\u001b[39m Spike\u001b[39m\u001b[39m\"\u001b[39m)\n",
      "\u001b[1;32m/Users/moritzalthaus/visions/jax-snn/jaxsnn/notebooks/exponential_integrators.ipynb Cell 12\u001b[0m in \u001b[0;36mapply_fun\u001b[0;34m(weights, input_spikes, t_end)\u001b[0m\n\u001b[1;32m     <a href='vscode-notebook-cell:/Users/moritzalthaus/visions/jax-snn/jaxsnn/notebooks/exponential_integrators.ipynb#X12sZmlsZQ%3D%3D?line=36'>37</a>\u001b[0m   spike_time \u001b[39m=\u001b[39m input_spikes[i]\n\u001b[1;32m     <a href='vscode-notebook-cell:/Users/moritzalthaus/visions/jax-snn/jaxsnn/notebooks/exponential_integrators.ipynb#X12sZmlsZQ%3D%3D?line=37'>38</a>\u001b[0m   \u001b[39massert\u001b[39;00m spike_time \u001b[39m-\u001b[39m t \u001b[39m>\u001b[39m \u001b[39m0\u001b[39m\n\u001b[0;32m---> <a href='vscode-notebook-cell:/Users/moritzalthaus/visions/jax-snn/jaxsnn/notebooks/exponential_integrators.ipynb#X12sZmlsZQ%3D%3D?line=38'>39</a>\u001b[0m   x, t, recording \u001b[39m=\u001b[39m integrate_until(batched_dynmaics, jump_condition, tr_dynamics, recording, x, t, spike_time \u001b[39m-\u001b[39;49m t)\n\u001b[1;32m     <a href='vscode-notebook-cell:/Users/moritzalthaus/visions/jax-snn/jaxsnn/notebooks/exponential_integrators.ipynb#X12sZmlsZQ%3D%3D?line=39'>40</a>\u001b[0m   x \u001b[39m=\u001b[39m tr_dynamics(x, np\u001b[39m.\u001b[39marray([i]))\n\u001b[1;32m     <a href='vscode-notebook-cell:/Users/moritzalthaus/visions/jax-snn/jaxsnn/notebooks/exponential_integrators.ipynb#X12sZmlsZQ%3D%3D?line=41'>42</a>\u001b[0m integrate_until(batched_dynmaics, recording, v_th, x, weights, t, t_end \u001b[39m-\u001b[39m t)  \n",
      "\u001b[1;32m/Users/moritzalthaus/visions/jax-snn/jaxsnn/notebooks/exponential_integrators.ipynb Cell 12\u001b[0m in \u001b[0;36mintegrate_until\u001b[0;34m(dynamics, jump_condition, recording, tr_equation, x, t, dt)\u001b[0m\n\u001b[1;32m     <a href='vscode-notebook-cell:/Users/moritzalthaus/visions/jax-snn/jaxsnn/notebooks/exponential_integrators.ipynb#X12sZmlsZQ%3D%3D?line=22'>23</a>\u001b[0m \u001b[39mwhile\u001b[39;00m t \u001b[39m<\u001b[39m t_until:\n\u001b[1;32m     <a href='vscode-notebook-cell:/Users/moritzalthaus/visions/jax-snn/jaxsnn/notebooks/exponential_integrators.ipynb#X12sZmlsZQ%3D%3D?line=23'>24</a>\u001b[0m   t_step \u001b[39m=\u001b[39m np\u001b[39m.\u001b[39mminimum(dt, t_until\u001b[39m-\u001b[39mt)\n\u001b[0;32m---> <a href='vscode-notebook-cell:/Users/moritzalthaus/visions/jax-snn/jaxsnn/notebooks/exponential_integrators.ipynb#X12sZmlsZQ%3D%3D?line=24'>25</a>\u001b[0m   x, t, spike_idx \u001b[39m=\u001b[39m integrate_to_next_jump_or_dt(dynamics, jump_condition, tr_equation, x, t, dt)\n\u001b[1;32m     <a href='vscode-notebook-cell:/Users/moritzalthaus/visions/jax-snn/jaxsnn/notebooks/exponential_integrators.ipynb#X12sZmlsZQ%3D%3D?line=25'>26</a>\u001b[0m   recording \u001b[39m=\u001b[39m recording\u001b[39m.\u001b[39mat[spike_idx, \u001b[39m0\u001b[39m]\u001b[39m.\u001b[39mset(t)\n\u001b[1;32m     <a href='vscode-notebook-cell:/Users/moritzalthaus/visions/jax-snn/jaxsnn/notebooks/exponential_integrators.ipynb#X12sZmlsZQ%3D%3D?line=26'>27</a>\u001b[0m \u001b[39mreturn\u001b[39;00m x, t, recording\n",
      "\u001b[1;32m/Users/moritzalthaus/visions/jax-snn/jaxsnn/notebooks/exponential_integrators.ipynb Cell 12\u001b[0m in \u001b[0;36mintegrate_to_next_jump_or_dt\u001b[0;34m(dynamics, jump_condition, tr_equation, y, t, dt)\u001b[0m\n\u001b[1;32m      <a href='vscode-notebook-cell:/Users/moritzalthaus/visions/jax-snn/jaxsnn/notebooks/exponential_integrators.ipynb#X12sZmlsZQ%3D%3D?line=5'>6</a>\u001b[0m \u001b[39mdef\u001b[39;00m \u001b[39mintegrate_to_next_jump_or_dt\u001b[39m(dynamics, jump_condition, tr_equation, y, t, dt):\n\u001b[1;32m      <a href='vscode-notebook-cell:/Users/moritzalthaus/visions/jax-snn/jaxsnn/notebooks/exponential_integrators.ipynb#X12sZmlsZQ%3D%3D?line=6'>7</a>\u001b[0m   \u001b[39m# how can we know if threshold was crossed?\u001b[39;00m\n\u001b[1;32m      <a href='vscode-notebook-cell:/Users/moritzalthaus/visions/jax-snn/jaxsnn/notebooks/exponential_integrators.ipynb#X12sZmlsZQ%3D%3D?line=7'>8</a>\u001b[0m   y_int \u001b[39m=\u001b[39m dynamics(y, dt)\n\u001b[0;32m----> <a href='vscode-notebook-cell:/Users/moritzalthaus/visions/jax-snn/jaxsnn/notebooks/exponential_integrators.ipynb#X12sZmlsZQ%3D%3D?line=8'>9</a>\u001b[0m   \u001b[39mif\u001b[39;00m \u001b[39mnot\u001b[39;00m np\u001b[39m.\u001b[39;49many(jump_condition):\n\u001b[1;32m     <a href='vscode-notebook-cell:/Users/moritzalthaus/visions/jax-snn/jaxsnn/notebooks/exponential_integrators.ipynb#X12sZmlsZQ%3D%3D?line=9'>10</a>\u001b[0m     \u001b[39mreturn\u001b[39;00m y_int, t \u001b[39m+\u001b[39m dt, np\u001b[39m.\u001b[39marray([\u001b[39m0\u001b[39m])\n\u001b[1;32m     <a href='vscode-notebook-cell:/Users/moritzalthaus/visions/jax-snn/jaxsnn/notebooks/exponential_integrators.ipynb#X12sZmlsZQ%3D%3D?line=11'>12</a>\u001b[0m   t_spike \u001b[39m=\u001b[39m newton_with_bound(jc, \u001b[39m0.0\u001b[39m, dt) \u001b[39m+\u001b[39m t\n",
      "File \u001b[0;32m~/.pyenv/versions/3.10.0/lib/python3.10/site-packages/jax/_src/numpy/reductions.py:265\u001b[0m, in \u001b[0;36many\u001b[0;34m(a, axis, out, keepdims, where)\u001b[0m\n\u001b[1;32m    262\u001b[0m \u001b[39m@_wraps\u001b[39m(np\u001b[39m.\u001b[39many, skip_params\u001b[39m=\u001b[39m[\u001b[39m'\u001b[39m\u001b[39mout\u001b[39m\u001b[39m'\u001b[39m])\n\u001b[1;32m    263\u001b[0m \u001b[39mdef\u001b[39;00m \u001b[39many\u001b[39m(a, axis: Optional[Union[\u001b[39mint\u001b[39m, Tuple[\u001b[39mint\u001b[39m, \u001b[39m.\u001b[39m\u001b[39m.\u001b[39m\u001b[39m.\u001b[39m]]] \u001b[39m=\u001b[39m \u001b[39mNone\u001b[39;00m, out\u001b[39m=\u001b[39m\u001b[39mNone\u001b[39;00m,\n\u001b[1;32m    264\u001b[0m         keepdims\u001b[39m=\u001b[39m\u001b[39mNone\u001b[39;00m, \u001b[39m*\u001b[39m, where\u001b[39m=\u001b[39m\u001b[39mNone\u001b[39;00m):\n\u001b[0;32m--> 265\u001b[0m   \u001b[39mreturn\u001b[39;00m _reduce_any(a, axis\u001b[39m=\u001b[39;49m_ensure_optional_axes(axis), out\u001b[39m=\u001b[39;49mout,\n\u001b[1;32m    266\u001b[0m                      keepdims\u001b[39m=\u001b[39;49mkeepdims, where\u001b[39m=\u001b[39;49mwhere)\n",
      "    \u001b[0;31m[... skipping hidden 2 frame]\u001b[0m\n",
      "File \u001b[0;32m~/.pyenv/versions/3.10.0/lib/python3.10/site-packages/jax/_src/api.py:2993\u001b[0m, in \u001b[0;36m_check_arg\u001b[0;34m(arg)\u001b[0m\n\u001b[1;32m   2991\u001b[0m \u001b[39mdef\u001b[39;00m \u001b[39m_check_arg\u001b[39m(arg):\n\u001b[1;32m   2992\u001b[0m   \u001b[39mif\u001b[39;00m \u001b[39mnot\u001b[39;00m (\u001b[39misinstance\u001b[39m(arg, core\u001b[39m.\u001b[39mTracer) \u001b[39mor\u001b[39;00m _valid_jaxtype(arg)):\n\u001b[0;32m-> 2993\u001b[0m     \u001b[39mraise\u001b[39;00m \u001b[39mTypeError\u001b[39;00m(\u001b[39mf\u001b[39m\u001b[39m\"\u001b[39m\u001b[39mArgument \u001b[39m\u001b[39m'\u001b[39m\u001b[39m{\u001b[39;00marg\u001b[39m}\u001b[39;00m\u001b[39m'\u001b[39m\u001b[39m of type \u001b[39m\u001b[39m{\u001b[39;00m\u001b[39mtype\u001b[39m(arg)\u001b[39m}\u001b[39;00m\u001b[39m is not a valid JAX type.\u001b[39m\u001b[39m\"\u001b[39m)\n",
      "\u001b[0;31mTypeError\u001b[0m: Argument '<function jump_condition at 0x29a2fa170>' of type <class 'function'> is not a valid JAX type."
     ]
    }
   ],
   "source": [
    "rng = jax.random.PRNGKey(42)\n",
    "rng, weight_rng = jax.random.split(rng)\n",
    "n_neurons = 100\n",
    "\n",
    "weights = jax.random.uniform(rng, (n_neurons, n_neurons))\n",
    "x, y = dataset(rng, 10, 100)\n",
    "\n",
    "state, recording = apply_fun(weights, x[0][0])\n",
    "spikes = np.count_nonzero(recording[:, 0])\n",
    "print(f\"{spikes} Spike\")\n",
    "a = 3"
   ]
  },
  {
   "cell_type": "code",
   "execution_count": 85,
   "metadata": {},
   "outputs": [],
   "source": [
    "def integrate_to_next_jump( \n",
    "    dynamics, \n",
    "    jump_condition,\n",
    "    transition_equation,\n",
    "    y_0\n",
    "):\n",
    "  jc = partial(jump_condition, dynamics, 0.3, y_0)\n",
    "  spike_time = newton_with_bound(jc, 0.0, 10.0)\n",
    "  y_minus = partial(dynamics, y_0)(spike_time)\n",
    "  y_plus = transition_equation(y_minus)\n",
    "\n",
    "  return (spike_time, y_minus, y_plus)\n"
   ]
  },
  {
   "cell_type": "code",
   "execution_count": 217,
   "metadata": {},
   "outputs": [],
   "source": []
  }
 ],
 "metadata": {
  "kernelspec": {
   "display_name": "Python 3.10.0 64-bit ('3.10.0')",
   "language": "python",
   "name": "python3"
  },
  "language_info": {
   "codemirror_mode": {
    "name": "ipython",
    "version": 3
   },
   "file_extension": ".py",
   "mimetype": "text/x-python",
   "name": "python",
   "nbconvert_exporter": "python",
   "pygments_lexer": "ipython3",
   "version": "3.10.0"
  },
  "orig_nbformat": 4,
  "vscode": {
   "interpreter": {
    "hash": "56d96b8a86e145020d6ababe354d6afecb59aba273078a8fcdc758efbc4b784a"
   }
  }
 },
 "nbformat": 4,
 "nbformat_minor": 2
}
