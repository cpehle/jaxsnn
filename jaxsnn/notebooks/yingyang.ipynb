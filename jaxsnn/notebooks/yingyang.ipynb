{
  "cells": [
    {
      "cell_type": "code",
      "execution_count": 30,
      "metadata": {},
      "outputs": [],
      "source": [
        "import os\n",
        "import sys\n",
        "import time\n",
        "\n",
        "import jax.numpy as np\n",
        "import matplotlib.pyplot as plt\n",
        "from jax import random\n",
        "\n",
        "nb_dir = os.path.split(os.path.split(os.getcwd())[0])[0]\n",
        "if nb_dir not in sys.path:\n",
        "    sys.path.append(nb_dir)\n",
        "\n",
        "from jaxsnn.dataset.yinyang import YinYangDataset\n",
        "\n"
      ]
    },
    {
      "cell_type": "code",
      "execution_count": 31,
      "metadata": {},
      "outputs": [],
      "source": [
        "from jaxsnn.dataset.yinyang import YinYangDataset\n",
        "\n",
        "key = random.PRNGKey(12)\n",
        "dataset = YinYangDataset(key, size=1000)"
      ]
    },
    {
      "cell_type": "code",
      "execution_count": 70,
      "metadata": {},
      "outputs": [
        {
          "name": "stdout",
          "output_type": "stream",
          "text": [
            "()\n"
          ]
        }
      ],
      "source": [
        "# Test simple layer\n",
        "from jaxsnn.functional.lif import LIFParameters, lif_init_weights, lif_init_state, lif_step\n",
        "from jax.lax import scan\n",
        "\n",
        "batch_size = 1\n",
        "input_size = 1\n",
        "hidden_size = 1\n",
        "params = lif_init_weights(key, input_size, hidden_size, scale=0.5)\n",
        "\n",
        "spikes = np.ones((10, batch_size))\n",
        "state = lif_init_state((batch_size, hidden_size))\n",
        "\n",
        "recording = {\"v\": [], \"z\": []}\n",
        "for t in range(10):\n",
        "    state, z = lif_step(state, *params, spikes[t])\n",
        "    recording[\"z\"].append(np.sum(np.squeeze(z)))\n",
        "    recording[\"v\"].append(np.squeeze(state.v))\n",
        "\n",
        "print(recording[\"v\"][0].shape)\n"
      ]
    },
    {
      "cell_type": "code",
      "execution_count": 71,
      "metadata": {},
      "outputs": [
        {
          "data": {
            "text/plain": [
              "[<matplotlib.lines.Line2D at 0x28af6fb50>]"
            ]
          },
          "execution_count": 71,
          "metadata": {},
          "output_type": "execute_result"
        },
        {
          "data": {
            "image/png": "[encoded data removed]",
            "text/plain": [
              "<Figure size 432x288 with 1 Axes>"
            ]
          },
          "metadata": {
            "needs_background": "light"
          },
          "output_type": "display_data"
        }
      ],
      "source": [
        "import matplotlib.pyplot as plt\n",
        "\n",
        "plt.plot(np.arange(len(recording[\"v\"])), recording[\"v\"])"
      ]
    },
    {
      "cell_type": "code",
      "execution_count": null,
      "metadata": {},
      "outputs": [],
      "source": []
    }
  ],
  "metadata": {
    "kernelspec": {
      "display_name": "Python 3.10.0 64-bit ('3.10.0')",
      "language": "python",
      "name": "python3"
    },
    "language_info": {
      "codemirror_mode": {
        "name": "ipython",
        "version": 3
      },
      "file_extension": ".py",
      "mimetype": "text/x-python",
      "name": "python",
      "nbconvert_exporter": "python",
      "pygments_lexer": "ipython3",
      "version": "3.10.0"
    },
    "orig_nbformat": 4,
    "vscode": {
      "interpreter": {
        "hash": "56d96b8a86e145020d6ababe354d6afecb59aba273078a8fcdc758efbc4b784a"
      }
    }
  },
  "nbformat": 4,
  "nbformat_minor": 2
}
