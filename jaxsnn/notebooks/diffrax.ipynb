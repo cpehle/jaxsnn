{
  "cells": [
    {
      "cell_type": "code",
      "execution_count": 2,
      "metadata": {},
      "outputs": [],
      "source": [
        "import os\n",
        "import sys\n",
        "\n",
        "nb_dir = os.path.split(os.path.split(os.getcwd())[0])[0]\n",
        "if nb_dir not in sys.path:\n",
        "    sys.path.append(nb_dir)\n",
        "\n",
        "from jaxsnn.functional.leaky_integrator import LIParameters, LIState"
      ]
    },
    {
      "cell_type": "code",
      "execution_count": 41,
      "metadata": {},
      "outputs": [],
      "source": [
        "import diffrax\n",
        "from diffrax import diffeqsolve, ODETerm, Dopri5\n",
        "import jax.numpy as np\n",
        "from diffrax import diffeqsolve, Dopri5, ODETerm, SaveAt, PIDController\n",
        "import jax"
      ]
    },
    {
      "cell_type": "code",
      "execution_count": 36,
      "metadata": {},
      "outputs": [],
      "source": [
        "# express our ODEs\n",
        "p = LIParameters()\n",
        "\n",
        "def li_dt(t, y, args):\n",
        "    dv_dt = p.tau_mem_inv *(p.v_leak - y[\"v\"] + y[\"i\"])\n",
        "    di_dt = -p.tau_syn_inv * y[\"i\"]\n",
        "    return {\n",
        "        \"v\": dv_dt,\n",
        "        \"i\": di_dt,\n",
        "    }\n",
        "\n"
      ]
    },
    {
      "cell_type": "code",
      "execution_count": 76,
      "metadata": {},
      "outputs": [],
      "source": [
        "y0 = {\"v\": 1.0, \"i\": 1.0}\n",
        "dt0 = 5e-4\n",
        "\n",
        "term = ODETerm(li_dt)\n",
        "solver = Dopri5()\n",
        "stepsize_controller = PIDController(rtol=1e-5, atol=1e-5)\n",
        "\n",
        "spike_times = dt0 * 10 * np.arange(1, 10)  # type: ignore\n",
        "y0 = {\"v\": 0.0, \"i\": 0.0}\n",
        "prev_time = 0.0\n",
        "res = {\n",
        "    \"i\": np.array([]),\n",
        "    \"v\": np.array([]),\n",
        "}\n",
        "t = np.array([])\n",
        "\n",
        "for t1 in spike_times:\n",
        "    y0[\"i\"] += 1.0\n",
        "    ts = np.arange(prev_time, t1 - 1e-7, dt0)\n",
        "    saveat = SaveAt(ts=ts)\n",
        "    sol = diffeqsolve(term, solver=solver, t0=prev_time, t1=t1, dt0=dt0, y0=y0, saveat=saveat,\n",
        "                  stepsize_controller=stepsize_controller)\n",
        "    y0=jax.tree_map(lambda x: x[-1], sol.ys)\n",
        "\n",
        "    res = jax.tree_map(lambda x, y: np.concatenate((x, y)), res, sol.ys)\n",
        "    t = np.concatenate((t, ts))\n",
        "    prev_time = t1"
      ]
    },
    {
      "cell_type": "code",
      "execution_count": 77,
      "metadata": {},
      "outputs": [
        {
          "data": {
            "text/plain": [
              "<matplotlib.legend.Legend at 0x2a59a7fa0>"
            ]
          },
          "execution_count": 77,
          "metadata": {},
          "output_type": "execute_result"
        },
        {
          "data": {
            "image/png": "[encoded data removed]",
            "text/plain": [
              "<Figure size 432x288 with 1 Axes>"
            ]
          },
          "metadata": {
            "needs_background": "light"
          },
          "output_type": "display_data"
        }
      ],
      "source": [
        "import matplotlib.pyplot as plt\n",
        "plt.plot(t, res[\"v\"], label=\"V\")\n",
        "plt.plot(t, res[\"i\"], label=\"I\")\n",
        "plt.legend()"
      ]
    },
    {
      "cell_type": "code",
      "execution_count": 56,
      "metadata": {},
      "outputs": [
        {
          "data": {
            "text/plain": [
              "DeviceArray([], dtype=float32, weak_type=True)"
            ]
          },
          "execution_count": 56,
          "metadata": {},
          "output_type": "execute_result"
        }
      ],
      "source": [
        "sol.ys[\"i\"]"
      ]
    },
    {
      "cell_type": "code",
      "execution_count": 9,
      "metadata": {},
      "outputs": [
        {
          "ename": "TypeError",
          "evalue": "Argument '<function f at 0x2866267a0>' of type <class 'function'> is not a valid JAX type.",
          "output_type": "error",
          "traceback": [
            "\u001b[0;31m---------------------------------------------------------------------------\u001b[0m",
            "\u001b[0;31mTypeError\u001b[0m                                 Traceback (most recent call last)",
            "\u001b[1;32m/Users/moritzalthaus/visions/jax-snn/jaxsnn/notebooks/diffrax.ipynb Cell 7\u001b[0m in \u001b[0;36m<cell line: 18>\u001b[0;34m()\u001b[0m\n\u001b[1;32m     <a href='vscode-notebook-cell:/Users/moritzalthaus/visions/jax-snn/jaxsnn/notebooks/diffrax.ipynb#W6sZmlsZQ%3D%3D?line=11'>12</a>\u001b[0m     \u001b[39mreturn\u001b[39;00m y \u001b[39m/\u001b[39m g(\u001b[39m1.0\u001b[39m)\n\u001b[1;32m     <a href='vscode-notebook-cell:/Users/moritzalthaus/visions/jax-snn/jaxsnn/notebooks/diffrax.ipynb#W6sZmlsZQ%3D%3D?line=14'>15</a>\u001b[0m \u001b[39m# def solve(f, inital_guess):\u001b[39;00m\n\u001b[1;32m     <a href='vscode-notebook-cell:/Users/moritzalthaus/visions/jax-snn/jaxsnn/notebooks/diffrax.ipynb#W6sZmlsZQ%3D%3D?line=15'>16</a>\u001b[0m \u001b[39m#     return linalg.solve\u001b[39;00m\n\u001b[0;32m---> <a href='vscode-notebook-cell:/Users/moritzalthaus/visions/jax-snn/jaxsnn/notebooks/diffrax.ipynb#W6sZmlsZQ%3D%3D?line=17'>18</a>\u001b[0m sol \u001b[39m=\u001b[39m custom_root(f, initial_guess, solve, tangent_solve)\n\u001b[1;32m     <a href='vscode-notebook-cell:/Users/moritzalthaus/visions/jax-snn/jaxsnn/notebooks/diffrax.ipynb#W6sZmlsZQ%3D%3D?line=18'>19</a>\u001b[0m f(sol)\n",
            "    \u001b[0;31m[... skipping hidden 12 frame]\u001b[0m\n",
            "File \u001b[0;32m~/.pyenv/versions/3.10.0/lib/python3.10/site-packages/jax/_src/scipy/linalg.py:237\u001b[0m, in \u001b[0;36msolve\u001b[0;34m(***failed resolving arguments***)\u001b[0m\n\u001b[1;32m    232\u001b[0m \u001b[39m@_wraps\u001b[39m(scipy\u001b[39m.\u001b[39mlinalg\u001b[39m.\u001b[39msolve,\n\u001b[1;32m    233\u001b[0m         lax_description\u001b[39m=\u001b[39m_no_overwrite_and_chkfinite_doc, skip_params\u001b[39m=\u001b[39m(\u001b[39m'\u001b[39m\u001b[39moverwrite_a\u001b[39m\u001b[39m'\u001b[39m, \u001b[39m'\u001b[39m\u001b[39moverwrite_b\u001b[39m\u001b[39m'\u001b[39m, \u001b[39m'\u001b[39m\u001b[39mdebug\u001b[39m\u001b[39m'\u001b[39m, \u001b[39m'\u001b[39m\u001b[39mcheck_finite\u001b[39m\u001b[39m'\u001b[39m))\n\u001b[1;32m    234\u001b[0m \u001b[39mdef\u001b[39;00m \u001b[39msolve\u001b[39m(a, b, sym_pos\u001b[39m=\u001b[39m\u001b[39mFalse\u001b[39;00m, lower\u001b[39m=\u001b[39m\u001b[39mFalse\u001b[39;00m, overwrite_a\u001b[39m=\u001b[39m\u001b[39mFalse\u001b[39;00m, overwrite_b\u001b[39m=\u001b[39m\u001b[39mFalse\u001b[39;00m,\n\u001b[1;32m    235\u001b[0m           debug\u001b[39m=\u001b[39m\u001b[39mFalse\u001b[39;00m, check_finite\u001b[39m=\u001b[39m\u001b[39mTrue\u001b[39;00m):\n\u001b[1;32m    236\u001b[0m   \u001b[39mdel\u001b[39;00m overwrite_a, overwrite_b, debug, check_finite\n\u001b[0;32m--> 237\u001b[0m   \u001b[39mreturn\u001b[39;00m _solve(a, b, sym_pos, lower)\n",
            "    \u001b[0;31m[... skipping hidden 2 frame]\u001b[0m\n",
            "File \u001b[0;32m~/.pyenv/versions/3.10.0/lib/python3.10/site-packages/jax/_src/api.py:2974\u001b[0m, in \u001b[0;36m_check_arg\u001b[0;34m(arg)\u001b[0m\n\u001b[1;32m   2972\u001b[0m \u001b[39mdef\u001b[39;00m \u001b[39m_check_arg\u001b[39m(arg):\n\u001b[1;32m   2973\u001b[0m   \u001b[39mif\u001b[39;00m \u001b[39mnot\u001b[39;00m (\u001b[39misinstance\u001b[39m(arg, core\u001b[39m.\u001b[39mTracer) \u001b[39mor\u001b[39;00m _valid_jaxtype(arg)):\n\u001b[0;32m-> 2974\u001b[0m     \u001b[39mraise\u001b[39;00m \u001b[39mTypeError\u001b[39;00m(\u001b[39mf\u001b[39m\u001b[39m\"\u001b[39m\u001b[39mArgument \u001b[39m\u001b[39m'\u001b[39m\u001b[39m{\u001b[39;00marg\u001b[39m}\u001b[39;00m\u001b[39m'\u001b[39m\u001b[39m of type \u001b[39m\u001b[39m{\u001b[39;00m\u001b[39mtype\u001b[39m(arg)\u001b[39m}\u001b[39;00m\u001b[39m is not a valid JAX type.\u001b[39m\u001b[39m\"\u001b[39m)\n",
            "\u001b[0;31mTypeError\u001b[0m: Argument '<function f at 0x2866267a0>' of type <class 'function'> is not a valid JAX type."
          ]
        }
      ],
      "source": [
        "from jax.lax import custom_root, custom_linear_solve\n",
        "from jax.scipy.linalg import solve\n",
        "import jax.numpy as np\n",
        "\n",
        "initial_guess = 2.0\n",
        "\n",
        "def f(x):\n",
        "    return x ** 2 + x + 0\n",
        "\n",
        "def tangent_solve(g, y):\n",
        "    return y / g(1.0)\n",
        "\n",
        "\n",
        "# def solve(f, inital_guess):\n",
        "#     return linalg.solve\n",
        "\n",
        "sol = custom_root(f, initial_guess, solve, tangent_solve)\n",
        "f(sol)\n"
      ]
    },
    {
      "cell_type": "code",
      "execution_count": null,
      "metadata": {},
      "outputs": [],
      "source": [
        "def f()"
      ]
    }
  ],
  "metadata": {
    "kernelspec": {
      "display_name": "Python 3.10.0 64-bit ('3.10.0')",
      "language": "python",
      "name": "python3"
    },
    "language_info": {
      "codemirror_mode": {
        "name": "ipython",
        "version": 3
      },
      "file_extension": ".py",
      "mimetype": "text/x-python",
      "name": "python",
      "nbconvert_exporter": "python",
      "pygments_lexer": "ipython3",
      "version": "3.10.0"
    },
    "orig_nbformat": 4,
    "vscode": {
      "interpreter": {
        "hash": "56d96b8a86e145020d6ababe354d6afecb59aba273078a8fcdc758efbc4b784a"
      }
    }
  },
  "nbformat": 4,
  "nbformat_minor": 2
}
