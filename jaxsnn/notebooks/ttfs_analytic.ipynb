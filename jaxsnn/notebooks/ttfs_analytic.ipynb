{
 "cells": [
  {
   "cell_type": "markdown",
   "metadata": {},
   "source": [
    "We can write the neuron dynamic as\n",
    "\n",
    "$$\\tau_m \\dot{V} = -V + I$$\n",
    "\n",
    "and\n",
    "\n",
    "$$\\tau_s \\dot{I} = I$$\n",
    "\n",
    "If we assume initial conditions $I_0$ and $V_0$, this leads to the following dynamics for I:\n",
    "\n",
    "$$I(t) = I_0e^{-\\frac{t}{\\tau_s}}$$\n",
    "\n",
    "Guessing a solution of the form\n",
    "\n",
    "$$v(t) = Ae^{-\\frac{t}{\\tau_s}} + Be^{-\\frac{t}{\\tau_m}}$$\n",
    "\n",
    "for v, leads to\n",
    "\n",
    "$$A = \\frac{\\tau_s}{\\tau_s - \\tau_m}I_0$$\n",
    "\n",
    "Solving for the initial conditions\n",
    "\n",
    "$$v(0) = A + B \\stackrel{!}{=} V_0$$\n",
    "\n",
    "leads to\n",
    "\n",
    "$$B = V_0 - A = V_0 - \\frac{\\tau_s}{\\tau_s - \\tau_m}I_0$$\n",
    "\n",
    "We can thus write the LIF dynamics as\n",
    "\n",
    "$$v(t) = \\frac{\\tau_s}{\\tau_s - \\tau_m}I_0e^{-\\frac{t}{\\tau_s}} + (V_0 - \\frac{\\tau_s}{\\tau_s - \\tau_m}I_0)e^{-\\frac{t}{\\tau_m}}$$\n",
    "\n",
    "which can be rewritten as \n",
    "\n",
    "$$v(t) = V_0e^{-\\frac{t}{\\tau_m}} + \\frac{\\tau_s}{\\tau_m - \\tau_s}I_0(e^{-\\frac{t}{\\tau_m}} - e^{-\\frac{t}{\\tau_s}})$$\n",
    "\n",
    "Solving for the spike time T for the special case $\\tau_m = 2\\tau_s$, we get\n",
    "\n",
    "$$\\vartheta = V_0e^{-\\frac{T}{\\tau_m}} + I_0(e^{-\\frac{T}{\\tau_m}} - e^{-\\frac{2T}{\\tau_m}})$$\n",
    "\n",
    "The quadratic nature now becomes apparent:\n",
    "\n",
    "$$0 = -I_0(e^{-\\frac{T}{\\tau_m}})^2 + (V_0 + I_0)e^{-\\frac{T}{\\tau_m}} - \\vartheta$$\n",
    "\n",
    "Identifying $a_1 = I_0$ and $a_2 = V_0 + I_0$, we get\n",
    "\n",
    "$$\\frac{T}{\\tau_m} = \\log(\\frac{2a_1}{a_2 + \\sqrt{a_2^2 - 4a_1\\vartheta}})"
   ]
  },
  {
   "cell_type": "code",
   "execution_count": 3,
   "metadata": {},
   "outputs": [],
   "source": [
    "import jax.numpy as np\n",
    "import jax\n",
    "from functools import partial\n",
    "import matplotlib.pyplot as plt\n",
    "\n",
    "tau_mem = 1e-3\n",
    "tau_syn = 5e-4\n",
    "\n",
    "tau_mem_inv = 1 / tau_mem\n",
    "tau_syn_inv = 1 / tau_syn\n",
    "v_th = 0.3\n",
    "\n",
    "def dynamic(state, t):\n",
    "    \"\"\"This holds for any tau_syn and tau_mem\"\"\"\n",
    "    v_0, i_0 = state\n",
    "    i = np.exp(-t/tau_syn)\n",
    "    tau_frac = (tau_syn / (tau_syn - tau_mem))\n",
    "    v = tau_frac * i_0 * np.exp(-t/tau_syn) + (v_0 - tau_frac * i_0) * np.exp(-t/tau_mem)\n",
    "    return np.array([v, i])\n",
    "\n",
    "def spike_time(state):\n",
    "    assert tau_mem == 2 * tau_syn\n",
    "    v_0, i_0 = state\n",
    "    a_1 = i_0\n",
    "    a_2 = v_0 + i_0\n",
    "    T = tau_mem * np.log(2*a_1 / (a_2 + np.sqrt(a_2**2 - 4*a_1 * v_th)))\n",
    "    return T"
   ]
  },
  {
   "cell_type": "code",
   "execution_count": 46,
   "metadata": {},
   "outputs": [],
   "source": [
    "A = np.array([[-tau_mem_inv, tau_mem_inv], [0,-tau_syn_inv]])\n",
    "\n",
    "def f(x0, t):\n",
    "  return np.dot(jax.scipy.linalg.expm(A * t), x0)"
   ]
  },
  {
   "cell_type": "code",
   "execution_count": 47,
   "metadata": {},
   "outputs": [
    {
     "name": "stdout",
     "output_type": "stream",
     "text": [
      "[0.29999995 0.6662278 ]\n"
     ]
    },
    {
     "data": {
      "image/png": "[encoded data removed]",
      "text/plain": [
       "<Figure size 432x288 with 1 Axes>"
      ]
     },
     "metadata": {
      "needs_background": "light"
     },
     "output_type": "display_data"
    }
   ],
   "source": [
    "initial_state = np.array([0.0, 2.0])\n",
    "times = np.arange(0, 0.005, 1e-5)\n",
    "state = jax.vmap(jax.jit(partial(dynamic, initial_state)))(times)\n",
    "\n",
    "t_spike = spike_time(initial_state)\n",
    "spike_voltage = dynamic(initial_state, t_spike)\n",
    "print(spike_voltage)\n",
    "plt.xlabel(\"Time\")\n",
    "plt.plot(times, state)\n",
    "plt.axvline(t_spike, linestyle='-.')\n",
    "plt.show()"
   ]
  },
  {
   "cell_type": "code",
   "execution_count": 48,
   "metadata": {},
   "outputs": [
    {
     "name": "stdout",
     "output_type": "stream",
     "text": [
      "4.82 µs ± 54.9 ns per loop (mean ± std. dev. of 7 runs, 100,000 loops each)\n",
      "57.1 µs ± 373 ns per loop (mean ± std. dev. of 7 runs, 10,000 loops each)\n"
     ]
    }
   ],
   "source": [
    "# compare the speed of both implementations\n",
    "def dynamic(state, t):\n",
    "    \"\"\"This holds for any tau_syn and tau_mem\"\"\"\n",
    "    i = np.exp(-t/tau_syn)\n",
    "    tau_frac = (tau_syn / (tau_syn - tau_mem))\n",
    "    v = tau_frac * state[1] * np.exp(-t/tau_syn) + (state[0] - tau_frac * state[1]) * np.exp(-t/tau_mem)\n",
    "    return np.array([v, i])\n",
    "\n",
    "\n",
    "f1 = jax.jit(jax.vmap(partial(dynamic, initial_state)))\n",
    "f2 = jax.jit(jax.vmap(partial(f, initial_state)))\n",
    "a = f1(times)\n",
    "b = f2(times)\n",
    "%timeit f1(times).block_until_ready()\n",
    "%timeit f2(times).block_until_ready()"
   ]
  },
  {
   "cell_type": "markdown",
   "metadata": {},
   "source": [
    "We see that our custom implementation is one magnitude faster"
   ]
  },
  {
   "cell_type": "code",
   "execution_count": 7,
   "metadata": {},
   "outputs": [],
   "source": [
    "batched_dynamic = jax.vmap(dynamic, in_axes=(0, None))\n",
    "batched_solver = jax.vmap(spike_time)"
   ]
  },
  {
   "cell_type": "code",
   "execution_count": 8,
   "metadata": {},
   "outputs": [],
   "source": [
    "# check gradients\n",
    "def loss_fn(weights):\n",
    "    state = np.zeros((n_neurons, 2))\n",
    "    state = batched_dynamic(state, 1e-4)\n",
    "\n",
    "    # first input spike\n",
    "    state = state.at[:, 1].set(state[:, 1] + weights[0, :])\n",
    "    state = batched_dynamic(state, 2e-4)\n",
    "\n",
    "    state = state.at[:, 1].set(state[:, 1] + weights[1, :])\n",
    "    next_spike = batched_solver(state)[3]\n",
    "    return (0.0002 - next_spike / tau_mem) ** 2\n",
    "\n",
    "\n",
    "n_neurons = 4\n",
    "rng = jax.random.PRNGKey(42)\n",
    "weights = jax.random.uniform(rng, (n_neurons, n_neurons))\n",
    "\n",
    "loss = []\n",
    "for i in range(10):\n",
    "    value, grad = jax.value_and_grad(loss_fn)(weights)\n",
    "    loss.append(value)\n",
    "    weights = weights - 0.1 * grad"
   ]
  },
  {
   "cell_type": "code",
   "execution_count": 9,
   "metadata": {},
   "outputs": [
    {
     "data": {
      "image/png": "[encoded data removed]",
      "text/plain": [
       "<Figure size 432x288 with 1 Axes>"
      ]
     },
     "metadata": {
      "needs_background": "light"
     },
     "output_type": "display_data"
    }
   ],
   "source": [
    "import matplotlib.pyplot as plt\n",
    "\n",
    "plt.plot(np.arange(len(loss)), loss)\n",
    "plt.show()"
   ]
  },
  {
   "cell_type": "code",
   "execution_count": 10,
   "metadata": {},
   "outputs": [
    {
     "name": "stdout",
     "output_type": "stream",
     "text": [
      "[[ 0.         0.        -0.0001256]\n",
      " [ 0.         0.        -0.0001256]\n",
      " [ 0.         0.        -0.       ]]\n",
      "[[ 0.         0.        -0.0001256]\n",
      " [ 0.         0.        -0.0001256]\n",
      " [ 0.         0.        -0.       ]]\n"
     ]
    }
   ],
   "source": [
    "# Here we show the gradient problem\n",
    "weights = np.array(\n",
    "    [\n",
    "        [0.0, 0.5, 1.0],\n",
    "        [0.4, 0.0, 1.1],\n",
    "        [0.4, 0.1, 0.0],\n",
    "    ]\n",
    ")\n",
    "voltage = np.zeros(3)\n",
    "spikes = np.array([1, 1, 0])\n",
    "\n",
    "tau_mem = 1e-3\n",
    "tau_syn = 5e-4\n",
    "\n",
    "v_th = 0.3\n",
    "\n",
    "from jax.config import config\n",
    "\n",
    "config.update(\"jax_debug_nans\", False)\n",
    "\n",
    "def spike_time(state):\n",
    "    v_0, i_0 = state\n",
    "    a_1 = i_0\n",
    "    a_2 = v_0 + i_0\n",
    "    has_spike = a_2**2 - 4*a_1 * v_th > 0\n",
    "    true_fun = lambda: tau_mem * np.log(2*a_1 / (a_2 + np.sqrt(a_2**2 - 4*a_1 * v_th)))\n",
    "    false_fun = lambda: np.nan\n",
    "    return jax.lax.cond(has_spike, true_fun, false_fun)\n",
    "\n",
    "batched_spike_time = jax.vmap(spike_time)\n",
    "\n",
    "def loss(weights):\n",
    "    current = np.matmul(spikes, weights)\n",
    "    state = np.stack((voltage, current), axis=1)\n",
    "    return spike_time(state[2])\n",
    "\n",
    "\n",
    "def loss2(weights):\n",
    "    current = np.matmul(spikes, weights)\n",
    "    state = np.stack((voltage, current), axis=1)\n",
    "    return batched_spike_time(state)[2]\n",
    "\n",
    "# loss2(weights)\n",
    "print(jax.grad(loss)(weights))\n",
    "print(jax.grad(loss2)(weights))"
   ]
  }
 ],
 "metadata": {
  "kernelspec": {
   "display_name": "Python 3.10.0 64-bit ('3.10.0')",
   "language": "python",
   "name": "python3"
  },
  "language_info": {
   "codemirror_mode": {
    "name": "ipython",
    "version": 3
   },
   "file_extension": ".py",
   "mimetype": "text/x-python",
   "name": "python",
   "nbconvert_exporter": "python",
   "pygments_lexer": "ipython3",
   "version": "3.10.0"
  },
  "orig_nbformat": 4,
  "vscode": {
   "interpreter": {
    "hash": "56d96b8a86e145020d6ababe354d6afecb59aba273078a8fcdc758efbc4b784a"
   }
  }
 },
 "nbformat": 4,
 "nbformat_minor": 2
}
