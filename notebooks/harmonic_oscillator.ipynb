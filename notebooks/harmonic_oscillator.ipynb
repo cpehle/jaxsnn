{
 "cells": [
  {
   "cell_type": "code",
   "execution_count": 4,
   "metadata": {},
   "outputs": [],
   "source": [
    "import numpy as np\n",
    "import jax\n",
    "import jax.numpy as jnp\n",
    "\n",
    "from jaxsnn.base import funcutils\n",
    "from jaxsnn.base import explicit\n",
    "from jaxsnn.base import implicit"
   ]
  },
  {
   "cell_type": "code",
   "execution_count": 5,
   "metadata": {},
   "outputs": [],
   "source": [
    "explicit_terms=lambda x: jnp.stack([x[1], -x[0]])\n",
    "projection=lambda x: x\n",
    "dt=1e-2\n",
    "inner_steps=20\n",
    "outer_steps=200\n",
    "initial_state=np.ones(2)"
   ]
  },
  {
   "cell_type": "code",
   "execution_count": 9,
   "metadata": {},
   "outputs": [
    {
     "ename": "AttributeError",
     "evalue": "module 'jaxsnn.base.explicit' has no attribute 'ExplicitConstrainedODE'",
     "output_type": "error",
     "traceback": [
      "\u001b[0;31m---------------------------------------------------------------------------\u001b[0m",
      "\u001b[0;31mAttributeError\u001b[0m                            Traceback (most recent call last)",
      "Cell \u001b[0;32mIn [9], line 3\u001b[0m\n\u001b[1;32m      1\u001b[0m time \u001b[39m=\u001b[39m dt \u001b[39m*\u001b[39m inner_steps \u001b[39m*\u001b[39m (\u001b[39m1\u001b[39m \u001b[39m+\u001b[39m np\u001b[39m.\u001b[39marange(outer_steps))\n\u001b[0;32m----> 3\u001b[0m equation \u001b[39m=\u001b[39m explicit\u001b[39m.\u001b[39;49mExplicitConstrainedODE(explicit_terms, projection)\n\u001b[1;32m      4\u001b[0m step_fn \u001b[39m=\u001b[39m explicit\u001b[39m.\u001b[39mheun_rk2(equation, dt)\n\u001b[1;32m      5\u001b[0m integrator \u001b[39m=\u001b[39m funcutils\u001b[39m.\u001b[39mtrajectory(funcutils\u001b[39m.\u001b[39mrepeated(step_fn, inner_steps), outer_steps)\n",
      "\u001b[0;31mAttributeError\u001b[0m: module 'jaxsnn.base.explicit' has no attribute 'ExplicitConstrainedODE'"
     ]
    }
   ],
   "source": [
    "time = dt * inner_steps * (1 + np.arange(outer_steps))\n",
    "\n",
    "equation = explicit.ExplicitConstrainedODE(explicit_terms, projection)\n",
    "step_fn = explicit.heun_rk2(equation, dt)\n",
    "integrator = funcutils.trajectory(funcutils.repeated(step_fn, inner_steps), outer_steps)\n",
    "_, actual = integrator(initial_state)"
   ]
  },
  {
   "cell_type": "code",
   "execution_count": null,
   "metadata": {},
   "outputs": [
    {
     "name": "stdout",
     "output_type": "stream",
     "text": [
      "The history saving thread hit an unexpected error (OperationalError('database or disk is full')).History will not be written to the database.\n"
     ]
    },
    {
     "data": {
      "image/png": "[encoded data removed]",
      "text/plain": [
       "<Figure size 640x480 with 1 Axes>"
      ]
     },
     "metadata": {},
     "output_type": "display_data"
    }
   ],
   "source": [
    "import matplotlib.pyplot as plt\n",
    "\n",
    "plt.plot(actual[:,0], actual[:,1])\n",
    "plt.show()"
   ]
  },
  {
   "cell_type": "code",
   "execution_count": 5,
   "metadata": {},
   "outputs": [
    {
     "ename": "TypeError",
     "evalue": "__init__() got an unexpected keyword argument 'output'",
     "output_type": "error",
     "traceback": [
      "\u001b[0;31m---------------------------------------------------------------------------\u001b[0m",
      "\u001b[0;31mTypeError\u001b[0m                                 Traceback (most recent call last)",
      "Cell \u001b[0;32mIn [5], line 10\u001b[0m\n\u001b[1;32m      7\u001b[0m \u001b[39mdef\u001b[39;00m \u001b[39moutput\u001b[39m(x,u):\n\u001b[1;32m      8\u001b[0m     \u001b[39mreturn\u001b[39;00m x\n\u001b[0;32m---> 10\u001b[0m equation \u001b[39m=\u001b[39m explicit\u001b[39m.\u001b[39;49mExplicitConstrainedCDE(\n\u001b[1;32m     11\u001b[0m    explicit_terms\u001b[39m=\u001b[39;49mcontrolled_dynamics,\n\u001b[1;32m     12\u001b[0m    projection\u001b[39m=\u001b[39;49mprojection,\n\u001b[1;32m     13\u001b[0m    output\u001b[39m=\u001b[39;49moutput\n\u001b[1;32m     14\u001b[0m )\n\u001b[1;32m     16\u001b[0m step_fn \u001b[39m=\u001b[39m explicit\u001b[39m.\u001b[39mheun_rk2_cde(equation, dt)\n\u001b[1;32m     18\u001b[0m step_fn\n",
      "\u001b[0;31mTypeError\u001b[0m: __init__() got an unexpected keyword argument 'output'"
     ]
    }
   ],
   "source": [
    "\n",
    "def controlled_dynamics(x, u):\n",
    "    return jnp.stack([x[1] + u[0], -x[0] + u[1]])\n",
    "\n",
    "def projection(x, u):\n",
    "    return x\n",
    "\n",
    "def output(x,u):\n",
    "    return x\n",
    "\n",
    "equation = explicit.ExplicitConstrainedCDE(\n",
    "   explicit_terms=controlled_dynamics,\n",
    "   projection=projection,\n",
    "   output=output\n",
    ")\n",
    "\n",
    "step_fn = explicit.heun_rk2_cde(equation, dt)\n",
    "\n",
    "step_fn"
   ]
  },
  {
   "cell_type": "code",
   "execution_count": 14,
   "metadata": {},
   "outputs": [
    {
     "name": "stdout",
     "output_type": "stream",
     "text": [
      "The history saving thread hit an unexpected error (OperationalError('database or disk is full')).History will not be written to the database.\n"
     ]
    },
    {
     "ename": "TracerIntegerConversionError",
     "evalue": "The __index__() method was called on the JAX Tracer object Traced<ShapedArray(float32[2])>with<DynamicJaxprTrace(level=1/0)>\nSee https://jax.readthedocs.io/en/latest/errors.html#jax.errors.TracerIntegerConversionError",
     "output_type": "error",
     "traceback": [
      "\u001b[0;31m---------------------------------------------------------------------------\u001b[0m",
      "\u001b[0;31mTracerIntegerConversionError\u001b[0m              Traceback (most recent call last)",
      "Cell \u001b[0;32mIn [14], line 3\u001b[0m\n\u001b[1;32m      1\u001b[0m integrator \u001b[39m=\u001b[39m funcutils\u001b[39m.\u001b[39mcontrolled_trajectory(step_fn, np\u001b[39m.\u001b[39mones((\u001b[39m100\u001b[39m,\u001b[39m2\u001b[39m)))\n\u001b[0;32m----> 3\u001b[0m _, actual \u001b[39m=\u001b[39m integrator(initial_state)\n",
      "File \u001b[0;32m~/Code/jaxsnn/jaxsnn/base/funcutils.py:151\u001b[0m, in \u001b[0;36mcontrolled_trajectory.<locals>.multistep\u001b[0;34m(values)\u001b[0m\n\u001b[1;32m    150\u001b[0m \u001b[39mdef\u001b[39;00m \u001b[39mmultistep\u001b[39m(values):\n\u001b[0;32m--> 151\u001b[0m   \u001b[39mreturn\u001b[39;00m scan(step, values, xs\u001b[39m=\u001b[39;49mxs)\n",
      "File \u001b[0;32m~/Code/jaxsnn/jaxsnn/base/funcutils.py:78\u001b[0m, in \u001b[0;36mscan\u001b[0;34m(f, init, xs, length)\u001b[0m\n\u001b[1;32m     76\u001b[0m   ys \u001b[39m=\u001b[39m _tree_stack(length \u001b[39m*\u001b[39m [y0])\n\u001b[1;32m     77\u001b[0m   \u001b[39mreturn\u001b[39;00m carry, ys\n\u001b[0;32m---> 78\u001b[0m \u001b[39mreturn\u001b[39;00m jax\u001b[39m.\u001b[39;49mlax\u001b[39m.\u001b[39;49mscan(f, init, xs, length)\n",
      "    \u001b[0;31m[... skipping hidden 9 frame]\u001b[0m\n",
      "File \u001b[0;32m~/Code/jaxsnn/jaxsnn/base/funcutils.py:146\u001b[0m, in \u001b[0;36mcontrolled_trajectory.<locals>.step\u001b[0;34m(carry_in, x)\u001b[0m\n\u001b[1;32m    145\u001b[0m \u001b[39mdef\u001b[39;00m \u001b[39mstep\u001b[39m(carry_in, x):\n\u001b[0;32m--> 146\u001b[0m   carry_out, out \u001b[39m=\u001b[39m step_fn(carry_in, x)\n\u001b[1;32m    147\u001b[0m   \u001b[39m# frame = post_process(carry_in if start_with_input else carry_out)\u001b[39;00m\n\u001b[1;32m    148\u001b[0m   \u001b[39mreturn\u001b[39;00m carry_out, out\n",
      "File \u001b[0;32m~/opt/miniconda3/envs/jaxsnn/lib/python3.9/contextlib.py:79\u001b[0m, in \u001b[0;36mContextDecorator.__call__.<locals>.inner\u001b[0;34m(*args, **kwds)\u001b[0m\n\u001b[1;32m     76\u001b[0m \u001b[39m@wraps\u001b[39m(func)\n\u001b[1;32m     77\u001b[0m \u001b[39mdef\u001b[39;00m \u001b[39minner\u001b[39m(\u001b[39m*\u001b[39margs, \u001b[39m*\u001b[39m\u001b[39m*\u001b[39mkwds):\n\u001b[1;32m     78\u001b[0m     \u001b[39mwith\u001b[39;00m \u001b[39mself\u001b[39m\u001b[39m.\u001b[39m_recreate_cm():\n\u001b[0;32m---> 79\u001b[0m         \u001b[39mreturn\u001b[39;00m func(\u001b[39m*\u001b[39;49margs, \u001b[39m*\u001b[39;49m\u001b[39m*\u001b[39;49mkwds)\n",
      "File \u001b[0;32m~/opt/miniconda3/envs/jaxsnn/lib/python3.9/site-packages/tree_math/_src/func_wrappers.py:55\u001b[0m, in \u001b[0;36mwrap.<locals>.wrapper\u001b[0;34m(*args, **kwargs)\u001b[0m\n\u001b[1;32m     53\u001b[0m args \u001b[39m=\u001b[39m _apply_argnums(vector\u001b[39m.\u001b[39mVector, args, vector_argnums)\n\u001b[1;32m     54\u001b[0m kwargs \u001b[39m=\u001b[39m _apply_argnames(vector\u001b[39m.\u001b[39mVector, kwargs, vector_argnames)\n\u001b[0;32m---> 55\u001b[0m result \u001b[39m=\u001b[39m fun(\u001b[39m*\u001b[39;49margs, \u001b[39m*\u001b[39;49m\u001b[39m*\u001b[39;49mkwargs)\n\u001b[1;32m     56\u001b[0m \u001b[39mreturn\u001b[39;00m tree_util\u001b[39m.\u001b[39mtree_map(_maybe_get_tree, result, is_leaf\u001b[39m=\u001b[39m_is_vector)\n",
      "File \u001b[0;32m~/Code/jaxsnn/jaxsnn/base/explicit.py:163\u001b[0m, in \u001b[0;36mconstrained_cde_rk.<locals>.step_fn\u001b[0;34m(u0, x0)\u001b[0m\n\u001b[1;32m    161\u001b[0m \u001b[39mfor\u001b[39;00m i \u001b[39min\u001b[39;00m \u001b[39mrange\u001b[39m(\u001b[39m1\u001b[39m, num_steps):\n\u001b[1;32m    162\u001b[0m   u_star \u001b[39m=\u001b[39m u0 \u001b[39m+\u001b[39m dt \u001b[39m*\u001b[39m \u001b[39msum\u001b[39m(a[i\u001b[39m-\u001b[39m\u001b[39m1\u001b[39m][j] \u001b[39m*\u001b[39m k[j] \u001b[39mfor\u001b[39;00m j \u001b[39min\u001b[39;00m \u001b[39mrange\u001b[39m(i) \u001b[39mif\u001b[39;00m a[i\u001b[39m-\u001b[39m\u001b[39m1\u001b[39m][j])\n\u001b[0;32m--> 163\u001b[0m   u[i] \u001b[39m=\u001b[39m P(u_star, x0)\n\u001b[1;32m    164\u001b[0m   k[i] \u001b[39m=\u001b[39m F(u[i], x0)\n\u001b[1;32m    166\u001b[0m u_star \u001b[39m=\u001b[39m u0 \u001b[39m+\u001b[39m dt \u001b[39m*\u001b[39m \u001b[39msum\u001b[39m(b[j] \u001b[39m*\u001b[39m k[j] \u001b[39mfor\u001b[39;00m j \u001b[39min\u001b[39;00m \u001b[39mrange\u001b[39m(num_steps) \u001b[39mif\u001b[39;00m b[j])\n",
      "File \u001b[0;32m~/opt/miniconda3/envs/jaxsnn/lib/python3.9/site-packages/tree_math/_src/func_wrappers.py:76\u001b[0m, in \u001b[0;36munwrap.<locals>.wrapper\u001b[0;34m(*args, **kwargs)\u001b[0m\n\u001b[1;32m     74\u001b[0m args \u001b[39m=\u001b[39m _apply_argnums(_get_tree, args, vector_argnums)\n\u001b[1;32m     75\u001b[0m kwargs \u001b[39m=\u001b[39m _apply_argnames(_get_tree, kwargs, vector_argnames)\n\u001b[0;32m---> 76\u001b[0m result \u001b[39m=\u001b[39m fun(\u001b[39m*\u001b[39;49margs, \u001b[39m*\u001b[39;49m\u001b[39m*\u001b[39;49mkwargs)\n\u001b[1;32m     77\u001b[0m \u001b[39mreturn\u001b[39;00m tree_util\u001b[39m.\u001b[39mtree_map(_maybe_vector, out_vectors, result)\n",
      "File \u001b[0;32m~/opt/miniconda3/envs/jaxsnn/lib/python3.9/site-packages/numpy/core/numeric.py:2182\u001b[0m, in \u001b[0;36midentity\u001b[0;34m(n, dtype, like)\u001b[0m\n\u001b[1;32m   2179\u001b[0m     \u001b[39mreturn\u001b[39;00m _identity_with_like(n, dtype\u001b[39m=\u001b[39mdtype, like\u001b[39m=\u001b[39mlike)\n\u001b[1;32m   2181\u001b[0m \u001b[39mfrom\u001b[39;00m \u001b[39mnumpy\u001b[39;00m \u001b[39mimport\u001b[39;00m eye\n\u001b[0;32m-> 2182\u001b[0m \u001b[39mreturn\u001b[39;00m eye(n, dtype\u001b[39m=\u001b[39;49mdtype, like\u001b[39m=\u001b[39;49mlike)\n",
      "File \u001b[0;32m~/opt/miniconda3/envs/jaxsnn/lib/python3.9/site-packages/numpy/lib/twodim_base.py:215\u001b[0m, in \u001b[0;36meye\u001b[0;34m(N, M, k, dtype, order, like)\u001b[0m\n\u001b[1;32m    213\u001b[0m \u001b[39mif\u001b[39;00m M \u001b[39mis\u001b[39;00m \u001b[39mNone\u001b[39;00m:\n\u001b[1;32m    214\u001b[0m     M \u001b[39m=\u001b[39m N\n\u001b[0;32m--> 215\u001b[0m m \u001b[39m=\u001b[39m zeros((N, M), dtype\u001b[39m=\u001b[39;49mdtype, order\u001b[39m=\u001b[39;49morder)\n\u001b[1;32m    216\u001b[0m \u001b[39mif\u001b[39;00m k \u001b[39m>\u001b[39m\u001b[39m=\u001b[39m M:\n\u001b[1;32m    217\u001b[0m     \u001b[39mreturn\u001b[39;00m m\n",
      "File \u001b[0;32m~/opt/miniconda3/envs/jaxsnn/lib/python3.9/site-packages/jax/core.py:547\u001b[0m, in \u001b[0;36mTracer.__index__\u001b[0;34m(self)\u001b[0m\n\u001b[1;32m    546\u001b[0m \u001b[39mdef\u001b[39;00m \u001b[39m__index__\u001b[39m(\u001b[39mself\u001b[39m):\n\u001b[0;32m--> 547\u001b[0m   \u001b[39mraise\u001b[39;00m TracerIntegerConversionError(\u001b[39mself\u001b[39m)\n",
      "\u001b[0;31mTracerIntegerConversionError\u001b[0m: The __index__() method was called on the JAX Tracer object Traced<ShapedArray(float32[2])>with<DynamicJaxprTrace(level=1/0)>\nSee https://jax.readthedocs.io/en/latest/errors.html#jax.errors.TracerIntegerConversionError"
     ]
    }
   ],
   "source": [
    "integrator = funcutils.controlled_trajectory(step_fn, np.ones((100,2)))\n",
    "\n",
    "_, actual = integrator(initial_state)"
   ]
  },
  {
   "cell_type": "code",
   "execution_count": null,
   "metadata": {},
   "outputs": [],
   "source": []
  }
 ],
 "metadata": {
  "kernelspec": {
   "display_name": "Python 3.9.13 64-bit ('jaxsnn')",
   "language": "python",
   "name": "python3"
  },
  "language_info": {
   "codemirror_mode": {
    "name": "ipython",
    "version": 3
   },
   "file_extension": ".py",
   "mimetype": "text/x-python",
   "name": "python",
   "nbconvert_exporter": "python",
   "pygments_lexer": "ipython3",
   "version": "3.9.13"
  },
  "orig_nbformat": 4,
  "vscode": {
   "interpreter": {
    "hash": "2ce9becf890e61a088a42092b30fc67d1fc4ba372184f4d22ac6f19e81ce7425"
   }
  }
 },
 "nbformat": 4,
 "nbformat_minor": 2
}
