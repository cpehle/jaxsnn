{
 "cells": [
  {
   "cell_type": "code",
   "execution_count": 1,
   "metadata": {},
   "outputs": [],
   "source": [
    "import jax.numpy as np\n",
    "import tree_math\n",
    "import dataclasses\n",
    "\n",
    "from jaxsnn.base import funcutils\n",
    "from jaxsnn.base import implicit\n",
    "from jaxsnn.tree_solver import ArrayLike, tree_solve, tree_matmul"
   ]
  },
  {
   "cell_type": "code",
   "execution_count": null,
   "metadata": {},
   "outputs": [],
   "source": [
    "@tree_math.struct\n",
    "class HodgekinHuxleyState:\n",
    "    v: ArrayLike\n",
    "    m: ArrayLike\n",
    "    h: ArrayLike\n",
    "    n: ArrayLike\n",
    "\n",
    "@tree_math.struct\n",
    "class HodgekinHuxleyParameters:\n",
    "    g_K: ArrayLike\n",
    "    E_K: ArrayLike\n",
    "    g_Na: ArrayLike\n",
    "    E_Na: ArrayLike\n",
    "    g_L: ArrayLike\n",
    "    E_L: ArrayLike\n",
    "    C_m_inv: ArrayLike\n",
    "\n",
    "def alpha_n(v : ArrayLike):\n",
    "    x = 0.001 * (10 - v)\n",
    "    y = np.exp((10 - v)/10) - 1\n",
    "    return x/y\n",
    "\n",
    "def beta_n(v : ArrayLike):\n",
    "    x = 0.125 * np.exp(- v / 80)\n",
    "    return x\n",
    "\n",
    "def alpha_h(v : ArrayLike):\n",
    "    return 0.07 * np.exp(- v / 20)\n",
    "\n",
    "def beta_h(v : ArrayLike):\n",
    "    y = np.exp((30 - v)/10) + 1\n",
    "    return 1/y\n",
    "\n",
    "def alpha_m(v : ArrayLike):\n",
    "    x = 0.1 * (25 - v)\n",
    "    y = np.exp((25 - v)/10) - 1\n",
    "    return x/y\n",
    "\n",
    "def beta_m(v : ArrayLike):\n",
    "    return 4 * np.exp(- v/18)\n",
    "\n",
    "def I_Na(s : HodgekinHuxleyState, p : HodgekinHuxleyParameters):\n",
    "    return p.g_Na * s.m**3 * s.h * (s.v - p.E_Na)\n",
    "\n",
    "def I_K(s : HodgekinHuxleyState, p: HodgekinHuxleyParameters):\n",
    "    return p.g_K * s.n**4 * (s.v - p.E_K)\n",
    "\n",
    "def I_L(s : HodgekinHuxleyState, p: HodgekinHuxleyParameters):\n",
    "    return p.g_L * (s.v - p.E_L)\n",
    "\n",
    "def channel_dynamics(alpha, beta):\n",
    "    def dynamics(x : ArrayLike, v : ArrayLike):\n",
    "        return alpha(v) * (1 - x) + beta(v) * x\n",
    "    return dynamics\n",
    "\n",
    "def hodgekin_huxley_dynamics(p : HodgekinHuxleyParameters):\n",
    "    m_dynamics = channel_dynamics(alpha_m, beta_m)\n",
    "    h_dynamics = channel_dynamics(alpha_h, beta_h)\n",
    "    n_dynamics = channel_dynamics(alpha_n, beta_n)\n",
    "\n",
    "    def dynamics(s : HodgekinHuxleyState):\n",
    "        return HodgekinHuxleyState(\n",
    "            -p.C_m_inv * (I_K(s, p) + I_Na(s, p) + I_L(s, p)),\n",
    "            m_dynamics(s.m, s.v),\n",
    "            n_dynamics(s.n, s.v),\n",
    "            n_dynamics(s.h, s.v)\n",
    "        )\n",
    "    return dynamics"
   ]
  }
 ],
 "metadata": {
  "kernelspec": {
   "display_name": "Python 3.9.13 ('jaxsnn')",
   "language": "python",
   "name": "python3"
  },
  "language_info": {
   "codemirror_mode": {
    "name": "ipython",
    "version": 3
   },
   "file_extension": ".py",
   "mimetype": "text/x-python",
   "name": "python",
   "nbconvert_exporter": "python",
   "pygments_lexer": "ipython3",
   "version": "3.9.13"
  },
  "orig_nbformat": 4,
  "vscode": {
   "interpreter": {
    "hash": "2ce9becf890e61a088a42092b30fc67d1fc4ba372184f4d22ac6f19e81ce7425"
   }
  }
 },
 "nbformat": 4,
 "nbformat_minor": 2
}
